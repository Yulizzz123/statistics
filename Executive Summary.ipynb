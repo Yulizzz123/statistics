{
 "cells": [
  {
   "cell_type": "markdown",
   "metadata": {},
   "source": [
    "## Executive Summary\n"
   ]
  },
  {
   "cell_type": "code",
   "execution_count": 1,
   "metadata": {},
   "outputs": [
    {
     "ename": "ModuleNotFoundError",
     "evalue": "No module named 'pandas'",
     "output_type": "error",
     "traceback": [
      "\u001b[1;31m---------------------------------------------------------------------------\u001b[0m",
      "\u001b[1;31mModuleNotFoundError\u001b[0m                       Traceback (most recent call last)",
      "\u001b[1;32m<ipython-input-1-ad7554c96fbf>\u001b[0m in \u001b[0;36m<module>\u001b[1;34m\u001b[0m\n\u001b[1;32m----> 1\u001b[1;33m \u001b[1;32mimport\u001b[0m \u001b[0mpandas\u001b[0m \u001b[1;32mas\u001b[0m \u001b[0mpd\u001b[0m\u001b[1;33m\u001b[0m\u001b[1;33m\u001b[0m\u001b[0m\n\u001b[0m\u001b[0;32m      2\u001b[0m \u001b[1;32mimport\u001b[0m \u001b[0mnumpy\u001b[0m \u001b[1;32mas\u001b[0m \u001b[0mnp\u001b[0m\u001b[1;33m\u001b[0m\u001b[1;33m\u001b[0m\u001b[0m\n\u001b[0;32m      3\u001b[0m \u001b[1;32mimport\u001b[0m \u001b[0mstatsmodels\u001b[0m\u001b[1;33m.\u001b[0m\u001b[0mapi\u001b[0m \u001b[1;32mas\u001b[0m \u001b[0msm\u001b[0m\u001b[1;33m\u001b[0m\u001b[1;33m\u001b[0m\u001b[0m\n\u001b[0;32m      4\u001b[0m \u001b[1;32mimport\u001b[0m \u001b[0mmatplotlib\u001b[0m\u001b[1;33m.\u001b[0m\u001b[0mpyplot\u001b[0m \u001b[1;32mas\u001b[0m \u001b[0mplt\u001b[0m\u001b[1;33m\u001b[0m\u001b[1;33m\u001b[0m\u001b[0m\n\u001b[0;32m      5\u001b[0m \u001b[1;32mimport\u001b[0m \u001b[0mseaborn\u001b[0m \u001b[1;32mas\u001b[0m \u001b[0msns\u001b[0m\u001b[1;33m\u001b[0m\u001b[1;33m\u001b[0m\u001b[0m\n",
      "\u001b[1;31mModuleNotFoundError\u001b[0m: No module named 'pandas'"
     ]
    }
   ],
   "source": [
    "import pandas as pd\n",
    "import numpy as np\n",
    "import statsmodels.api as sm\n",
    "import matplotlib.pyplot as plt\n",
    "import seaborn as sns"
   ]
  },
  {
   "cell_type": "code",
   "execution_count": null,
   "metadata": {},
   "outputs": [],
   "source": [
    "train11 = pd.read_csv('train11.csv', index_col=0, header = 0)"
   ]
  },
  {
   "cell_type": "markdown",
   "metadata": {},
   "source": [
    "### **About this analysis**"
   ]
  },
  {
   "cell_type": "markdown",
   "metadata": {},
   "source": [
    "Based on a dataset from **Ames, Iowa**, the US housing market from **2006 to 2010** was analyzed. The analysis applies to family houses with no pools in the RL or RM zone, with one or two stories and standard electricity. The houses were purchased with a warranty deed in normal sales condition."
   ]
  },
  {
   "cell_type": "markdown",
   "metadata": {},
   "source": [
    "### **Findings**"
   ]
  },
  {
   "cell_type": "markdown",
   "metadata": {},
   "source": [
    "From 2006 to 2010, the average sales price per year for a 35-year-old family house was about **USD 185,000 to USD 190,000**, with most lots ranging between **8,410sq.ft and 11,990sq.ft**. Central aircondition was a standard feature of most houses, for which a higher sales price of about **90% (USD 90,000)** was paid."
   ]
  },
  {
   "cell_type": "code",
   "execution_count": null,
   "metadata": {},
   "outputs": [],
   "source": [
    "train11.saleprice.plot(kind ='box');"
   ]
  },
  {
   "cell_type": "code",
   "execution_count": null,
   "metadata": {},
   "outputs": [],
   "source": [
    "trend = train11.groupby(['yrsold'])['lotarea', 'garagearea', 'saleprice'].mean().round().reset_index()\n",
    "trend.head()"
   ]
  },
  {
   "cell_type": "markdown",
   "metadata": {},
   "source": [
    "Houses in RL zones were **larger** than in RM zones (comp. 7,000 to 8,000 sq.ft). **No relation** between number of stories and lot size could be detected in RL zones. In RM zones, one-story houses were around 1,000sq.ft smaller than two-story houses. "
   ]
  },
  {
   "cell_type": "code",
   "execution_count": null,
   "metadata": {},
   "outputs": [],
   "source": [
    "train11.groupby(['mszoning','housestyle'])['lotarea', 'garagearea', 'saleprice'].mean().round().reset_index()"
   ]
  },
  {
   "cell_type": "markdown",
   "metadata": {},
   "source": [
    "From 2006 to 2009, the number of **sales rose**. In spite of the populations' decreasing buying power, the financial crisis of 2007/2008, did not lead to a decline of sales. This might be attributed to foreclosed homes readily turned over in the housing market. In 2008, there was a **steep decline** in housing prices by approx. USD 10,000, while also **smaller houses** were sold. While housing prices **recovered to pre-crisis levels** in 2009, **sales declined** in 2010. This might be due to a moderation of the housing market following the bubble, or may also suggest an **incomplete dataset**.\n"
   ]
  },
  {
   "cell_type": "code",
   "execution_count": null,
   "metadata": {},
   "outputs": [],
   "source": [
    "train11['no_houses'] = 1\n",
    "no_houses = train11.groupby(['yrsold'])['no_houses'].sum().reset_index()\n",
    "no_houses\n",
    "fig, ax = plt.subplots()\n",
    "x = no_houses['yrsold']\n",
    "y = no_houses['no_houses']\n",
    "ax.set_xlabel('Year', color=\"brown\",fontsize=9)\n",
    "ax.set_xticks([2006, 2007, 2008, 2009, 2010])\n",
    "ax.set_ylabel('No. of Sales', color=\"brown\",fontsize=9)\n",
    "ax.set_title('Housing Sales')\n",
    "ax.plot(x, y, color = 'grey');"
   ]
  },
  {
   "cell_type": "code",
   "execution_count": null,
   "metadata": {},
   "outputs": [],
   "source": [
    "trend = train11.groupby(['yrsold'])['lotarea', 'garagearea', 'saleprice'].mean().round().reset_index()\n",
    "trend.head()\n",
    "fig, ax = plt.subplots()\n",
    "x = trend['yrsold']\n",
    "y1 = trend['lotarea']\n",
    "y2 = trend['garagearea']\n",
    "y3 = trend['saleprice']\n",
    "ax.plot(x, y1, label = 'lot area');\n",
    "ax.plot(x, y2, label = 'garage area');\n",
    "ax.set_xlabel('Year', color=\"brown\",fontsize=9)\n",
    "ax.set_xticks([2006, 2007, 2008, 2009, 2010])\n",
    "ax.set_ylabel('Area  in sq.ft', color=\"brown\",fontsize=9)\n",
    "ax.set_title('Housing Area and Prices')\n",
    "ax.legend(loc = 'lower left')\n",
    "ax2 = ax.twinx()\n",
    "ax2.plot(x, y3, color = 'red', label = 'Prices')\n",
    "ax2.set_ylabel(\"Prices in USD\",color=\"brown\",fontsize=9)\n",
    "ax2.legend(loc = 10)\n",
    "plt.show()"
   ]
  },
  {
   "cell_type": "markdown",
   "metadata": {},
   "source": [
    "Most houses had garages that fit **2 cars**. While housing prices seem to **positively correlate** with larger garages, at garages that fit four cars housing price sink again to similar levels like houses with garages for two cars. However, this may be due to a **lack of data**, since only few houses for four cars were sold. "
   ]
  },
  {
   "cell_type": "code",
   "execution_count": null,
   "metadata": {},
   "outputs": [],
   "source": [
    "garage_price = train11.groupby('garagecars')['saleprice'].agg([\"count\", \"sum\"]).reset_index()\n",
    "garage_price.columns = ['garagecars', 'no_garages', 'price']\n",
    "garage_price2 = pd.DataFrame(garage_price)\n",
    "x = garage_price2['garagecars']\n",
    "y = garage_price2['no_garages']\n",
    "plt.bar(x,y)\n",
    "plt.xlabel ('No. of Cars', color = 'brown')\n",
    "plt.ylabel('Sales', color = 'brown')\n",
    "plt.title('Garages acc. to No. of Cars')\n",
    "plt.show();"
   ]
  },
  {
   "cell_type": "code",
   "execution_count": null,
   "metadata": {},
   "outputs": [],
   "source": [
    "x = train11['garagecars']\n",
    "y = train11['saleprice']\n",
    "X = sm.add_constant(x)\n",
    "model = sm.OLS(y, X)\n",
    "results = model.fit() \n",
    "train11.plot.scatter(x='garagecars', y = 'saleprice')\n",
    "plt.xticks([0,1,2,3,4])\n",
    "plt.title('Price vs. No. of Cars in Garage')\n",
    "plt.plot(x, results.predict(X), color = 'green')\n",
    "plt.show();"
   ]
  },
  {
   "cell_type": "code",
   "execution_count": null,
   "metadata": {},
   "outputs": [],
   "source": []
  }
 ],
 "metadata": {
  "hide_input": false,
  "kernelspec": {
   "display_name": "Python 3",
   "language": "python",
   "name": "python3"
  },
  "language_info": {
   "codemirror_mode": {
    "name": "ipython",
    "version": 3
   },
   "file_extension": ".py",
   "mimetype": "text/x-python",
   "name": "python",
   "nbconvert_exporter": "python",
   "pygments_lexer": "ipython3",
   "version": "3.8.3"
  }
 },
 "nbformat": 4,
 "nbformat_minor": 4
}
