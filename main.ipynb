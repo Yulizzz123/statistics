{
 "cells": [
  {
   "cell_type": "markdown",
   "metadata": {},
   "source": [
    "## US Housing Market 2006 to 2010"
   ]
  },
  {
   "cell_type": "markdown",
   "metadata": {},
   "source": [
    "The goal of this project is to analyze the US housing market from 2006 to 2010. It is based on a dataset from Ames, Iowa."
   ]
  },
  {
   "cell_type": "markdown",
   "metadata": {},
   "source": [
    "The following variables are available in the dataset at hand:\n",
    "\n",
    "| Data Category | Description |\n",
    "| :------- | :------- |\n",
    "| SalePrice | The property's sale price in dollars. This is the target variable that you're trying to predict |\n",
    "| MSSubClass | The building class |\n",
    "| MSZoning | The general zoning classification |\n",
    "| LotFrontage | Linear feet of street connected to property |\n",
    "| LotArea | Lot size in square feet |\n",
    "| Street | Type of road access |\n",
    "| Alley | Type of alley access |\n",
    "| LotShape | General shape of property |\n",
    "| LandContour | Flatness of the property |\n",
    "| Utilities | Type of utilities available |\n",
    "| LotConfig | Lot configuration |\n",
    "|LandSlope | Slope of property |\n",
    "|Neighborhood | Physical locations within Ames city limits |\n",
    "|Condition1 | Proximity to main road or railroad |\n",
    "|Condition2 | Proximity to main road or railroad (if a second is present) |\n",
    "|BldgType | Type of dwelling |\n",
    "|HouseStyle | Style of dwelling |\n",
    "|OverallQual | Overall material and finish quality |\n",
    "|OverallCond | Overall condition rating |\n",
    "|YearBuilt | Original construction date |\n",
    "|YearRemodAdd | Remodel date |\n",
    "|RoofStyle | Type of roof |\n",
    "|RoofMatl | Roof material |\n",
    "|Exterior1st | Exterior covering on house |\n",
    "|Exterior2nd | Exterior covering on house (if more than one material) |\n",
    "|MasVnrType | Masonry veneer type |\n",
    "|MasVnrArea | Masonry veneer area in square feet |\n",
    "|ExterQual | Exterior material quality |\n",
    "|ExterCond | Present condition of the material on the exterior |\n",
    "|Foundation | Type of foundation |\n",
    "|BsmtQual | Height of the basement |\n",
    "|BsmtCond | General condition of the basement |\n",
    "|BsmtExposure | Walkout or garden level basement walls |\n",
    "|BsmtFinType1 | Quality of basement finished area |\n",
    "|BsmtFinSF1 | Type 1 finished square feet |\n",
    "|BsmtFinType2 | Quality of second finished area (if present) |\n",
    "|BsmtFinSF2 | Type 2 finished square feet |\n",
    "|BsmtUnfSF | Unfinished square feet of basement area |\n",
    "|TotalBsmtSF | Total square feet of basement area |\n",
    "|Heating | Type of heating |\n",
    "|HeatingQC | Heating quality and condition |\n",
    "|CentralAir | Central air conditioning |\n",
    "|Electrical | Electrical system |\n",
    "|1stFlrSF | First Floor square feet |\n",
    "|2ndFlrSF | Second floor square feet |\n",
    "|LowQualFinSF | Low quality finished square feet (all floors) |\n",
    "|GrLivArea | Above grade (ground) living area square feet |\n",
    "|BsmtFullBath | Basement full bathrooms |\n",
    "|BsmtHalfBath | Basement half bathrooms |\n",
    "|FullBath | Full bathrooms above grade |\n",
    "|HalfBath | Half baths above grade |\n",
    "|Bedroom | Number of bedrooms above basement level |\n",
    "|Kitchen | Number of kitchens |\n",
    "|KitchenQual | Kitchen quality |\n",
    "|TotRmsAbvGrd | Total rooms above grade (does not include bathrooms) |\n",
    "|Functional | Home functionality rating |\n",
    "|Fireplaces | Number of fireplaces |\n",
    "|FireplaceQu | Fireplace quality |\n",
    "|GarageType | Garage location |\n",
    "|GarageYrBlt | Year garage was built |\n",
    "|GarageFinish | Interior finish of the garage |\n",
    "|GarageCars | Size of garage in car capacity |\n",
    "|GarageArea | Size of garage in square feet |\n",
    "|GarageQual | Garage quality |\n",
    "|GarageCond | Garage condition |\n",
    "|PavedDrive | Paved driveway |\n",
    "|WoodDeckSF | Wood deck area in square feet |\n",
    "|OpenPorchSF | Open porch area in square feet |\n",
    "|EnclosedPorch | Enclosed porch area in square feet |\n",
    "|3SsnPorch | Three season porch area in square feet |\n",
    "|ScreenPorch | Screen porch area in square feet |\n",
    "|PoolArea | Pool area in square feet |\n",
    "|PoolQC | Pool quality |\n",
    "|Fence | Fence quality |\n",
    "|MiscFeature | Miscellaneous feature not covered in other categories |\n",
    "|MiscVal | $Value of miscellaneous feature |\n",
    "|MoSold | Month Sold |\n",
    "|YrSold | Year Sold |\n",
    "|SaleType | Type of sale |\n",
    "|SaleCondition | Condition of sale |"
   ]
  },
  {
   "cell_type": "markdown",
   "metadata": {},
   "source": [
    "For better managability, dataset is reduced. The following factors are assumed to potentially have a particular significant impact on sales and housing prices (column 'SalePrice'): \n",
    "\n",
    "| No. | Data Category |\n",
    "|-----|---------------|\n",
    "| 1. | MSZoning |\n",
    "| 2. | LotArea |\n",
    "| 3. | Utilities |\n",
    "| 4. | BldgType |\n",
    "| 5. | HouseStyle |\n",
    "| 6. | YrBuilt |\n",
    "| 7. | GarageArea |\n",
    "| 8. | PoolArea |\n",
    "| 9. | Fence |  \n",
    "| 10. | YrSold |\n",
    "| 11. | SaleType |\n",
    "| 12. | SaleCondition |"
   ]
  },
  {
   "cell_type": "markdown",
   "metadata": {},
   "source": [
    "## **1. Import libraries and Load Data**"
   ]
  },
  {
   "cell_type": "code",
   "execution_count": 1,
   "metadata": {},
   "outputs": [],
   "source": [
    "import pandas as pd\n",
    "import numpy as np\n",
    "import matplotlib.pyplot as plt\n",
    "import seaborn as sns"
   ]
  },
  {
   "cell_type": "code",
   "execution_count": 2,
   "metadata": {},
   "outputs": [],
   "source": [
    "train = pd.read_csv('train.csv', usecols = ['SalePrice', 'MSZoning', 'LotArea', 'Utilities', 'BldgType','HouseStyle','YearBuilt', 'GarageArea','PoolArea','Fence','Alley', 'YrSold','SaleType', 'SaleCondition'])"
   ]
  },
  {
   "cell_type": "markdown",
   "metadata": {},
   "source": [
    "For easier handling of the data, the column names are all set to lowercase."
   ]
  },
  {
   "cell_type": "code",
   "execution_count": 3,
   "metadata": {},
   "outputs": [
    {
     "data": {
      "text/html": [
       "<div>\n",
       "<style scoped>\n",
       "    .dataframe tbody tr th:only-of-type {\n",
       "        vertical-align: middle;\n",
       "    }\n",
       "\n",
       "    .dataframe tbody tr th {\n",
       "        vertical-align: top;\n",
       "    }\n",
       "\n",
       "    .dataframe thead th {\n",
       "        text-align: right;\n",
       "    }\n",
       "</style>\n",
       "<table border=\"1\" class=\"dataframe\">\n",
       "  <thead>\n",
       "    <tr style=\"text-align: right;\">\n",
       "      <th></th>\n",
       "      <th>mszoning</th>\n",
       "      <th>lotarea</th>\n",
       "      <th>alley</th>\n",
       "      <th>utilities</th>\n",
       "      <th>bldgtype</th>\n",
       "      <th>housestyle</th>\n",
       "      <th>yearbuilt</th>\n",
       "      <th>garagearea</th>\n",
       "      <th>poolarea</th>\n",
       "      <th>fence</th>\n",
       "      <th>yrsold</th>\n",
       "      <th>saletype</th>\n",
       "      <th>salecondition</th>\n",
       "      <th>saleprice</th>\n",
       "    </tr>\n",
       "  </thead>\n",
       "  <tbody>\n",
       "    <tr>\n",
       "      <th>0</th>\n",
       "      <td>RL</td>\n",
       "      <td>8450</td>\n",
       "      <td>NaN</td>\n",
       "      <td>AllPub</td>\n",
       "      <td>1Fam</td>\n",
       "      <td>2Story</td>\n",
       "      <td>2003</td>\n",
       "      <td>548</td>\n",
       "      <td>0</td>\n",
       "      <td>NaN</td>\n",
       "      <td>2008</td>\n",
       "      <td>WD</td>\n",
       "      <td>Normal</td>\n",
       "      <td>208500</td>\n",
       "    </tr>\n",
       "    <tr>\n",
       "      <th>1</th>\n",
       "      <td>RL</td>\n",
       "      <td>9600</td>\n",
       "      <td>NaN</td>\n",
       "      <td>AllPub</td>\n",
       "      <td>1Fam</td>\n",
       "      <td>1Story</td>\n",
       "      <td>1976</td>\n",
       "      <td>460</td>\n",
       "      <td>0</td>\n",
       "      <td>NaN</td>\n",
       "      <td>2007</td>\n",
       "      <td>WD</td>\n",
       "      <td>Normal</td>\n",
       "      <td>181500</td>\n",
       "    </tr>\n",
       "    <tr>\n",
       "      <th>2</th>\n",
       "      <td>RL</td>\n",
       "      <td>11250</td>\n",
       "      <td>NaN</td>\n",
       "      <td>AllPub</td>\n",
       "      <td>1Fam</td>\n",
       "      <td>2Story</td>\n",
       "      <td>2001</td>\n",
       "      <td>608</td>\n",
       "      <td>0</td>\n",
       "      <td>NaN</td>\n",
       "      <td>2008</td>\n",
       "      <td>WD</td>\n",
       "      <td>Normal</td>\n",
       "      <td>223500</td>\n",
       "    </tr>\n",
       "    <tr>\n",
       "      <th>3</th>\n",
       "      <td>RL</td>\n",
       "      <td>9550</td>\n",
       "      <td>NaN</td>\n",
       "      <td>AllPub</td>\n",
       "      <td>1Fam</td>\n",
       "      <td>2Story</td>\n",
       "      <td>1915</td>\n",
       "      <td>642</td>\n",
       "      <td>0</td>\n",
       "      <td>NaN</td>\n",
       "      <td>2006</td>\n",
       "      <td>WD</td>\n",
       "      <td>Abnorml</td>\n",
       "      <td>140000</td>\n",
       "    </tr>\n",
       "    <tr>\n",
       "      <th>4</th>\n",
       "      <td>RL</td>\n",
       "      <td>14260</td>\n",
       "      <td>NaN</td>\n",
       "      <td>AllPub</td>\n",
       "      <td>1Fam</td>\n",
       "      <td>2Story</td>\n",
       "      <td>2000</td>\n",
       "      <td>836</td>\n",
       "      <td>0</td>\n",
       "      <td>NaN</td>\n",
       "      <td>2008</td>\n",
       "      <td>WD</td>\n",
       "      <td>Normal</td>\n",
       "      <td>250000</td>\n",
       "    </tr>\n",
       "  </tbody>\n",
       "</table>\n",
       "</div>"
      ],
      "text/plain": [
       "  mszoning  lotarea alley utilities bldgtype housestyle  yearbuilt  \\\n",
       "0       RL     8450   NaN    AllPub     1Fam     2Story       2003   \n",
       "1       RL     9600   NaN    AllPub     1Fam     1Story       1976   \n",
       "2       RL    11250   NaN    AllPub     1Fam     2Story       2001   \n",
       "3       RL     9550   NaN    AllPub     1Fam     2Story       1915   \n",
       "4       RL    14260   NaN    AllPub     1Fam     2Story       2000   \n",
       "\n",
       "   garagearea  poolarea fence  yrsold saletype salecondition  saleprice  \n",
       "0         548         0   NaN    2008       WD        Normal     208500  \n",
       "1         460         0   NaN    2007       WD        Normal     181500  \n",
       "2         608         0   NaN    2008       WD        Normal     223500  \n",
       "3         642         0   NaN    2006       WD       Abnorml     140000  \n",
       "4         836         0   NaN    2008       WD        Normal     250000  "
      ]
     },
     "execution_count": 3,
     "metadata": {},
     "output_type": "execute_result"
    }
   ],
   "source": [
    "train.columns = train.columns.str.lower()\n",
    "train.head()"
   ]
  },
  {
   "cell_type": "markdown",
   "metadata": {},
   "source": [
    "## **2. Data Wrangling**"
   ]
  },
  {
   "cell_type": "markdown",
   "metadata": {},
   "source": [
    "### **2.1 Handling Missing Values**"
   ]
  },
  {
   "cell_type": "markdown",
   "metadata": {},
   "source": [
    "The dataset has **14 columns** and **1,460 rows**."
   ]
  },
  {
   "cell_type": "code",
   "execution_count": 4,
   "metadata": {},
   "outputs": [
    {
     "data": {
      "text/plain": [
       "(1460, 14)"
      ]
     },
     "execution_count": 4,
     "metadata": {},
     "output_type": "execute_result"
    }
   ],
   "source": [
    "train.shape"
   ]
  },
  {
   "cell_type": "markdown",
   "metadata": {},
   "source": [
    "Missing values exist for columns **'alley'** and **'fence'**."
   ]
  },
  {
   "cell_type": "code",
   "execution_count": 5,
   "metadata": {},
   "outputs": [
    {
     "data": {
      "text/plain": [
       "alley            1369\n",
       "fence            1179\n",
       "saleprice           0\n",
       "salecondition       0\n",
       "saletype            0\n",
       "yrsold              0\n",
       "poolarea            0\n",
       "garagearea          0\n",
       "yearbuilt           0\n",
       "housestyle          0\n",
       "bldgtype            0\n",
       "utilities           0\n",
       "lotarea             0\n",
       "mszoning            0\n",
       "dtype: int64"
      ]
     },
     "execution_count": 5,
     "metadata": {},
     "output_type": "execute_result"
    }
   ],
   "source": [
    "missing_values = train.isna().sum().sort_values(ascending = False)\n",
    "missing_values"
   ]
  },
  {
   "cell_type": "markdown",
   "metadata": {},
   "source": [
    "More than 80% of the columns 'alley' and 'fence' are **missing values**."
   ]
  },
  {
   "cell_type": "code",
   "execution_count": 6,
   "metadata": {},
   "outputs": [
    {
     "data": {
      "text/plain": [
       "alley            0.937671\n",
       "fence            0.807534\n",
       "saleprice        0.000000\n",
       "salecondition    0.000000\n",
       "saletype         0.000000\n",
       "yrsold           0.000000\n",
       "poolarea         0.000000\n",
       "garagearea       0.000000\n",
       "yearbuilt        0.000000\n",
       "housestyle       0.000000\n",
       "bldgtype         0.000000\n",
       "utilities        0.000000\n",
       "lotarea          0.000000\n",
       "mszoning         0.000000\n",
       "dtype: float64"
      ]
     },
     "execution_count": 6,
     "metadata": {},
     "output_type": "execute_result"
    }
   ],
   "source": [
    "missing_values / len(train)"
   ]
  },
  {
   "cell_type": "markdown",
   "metadata": {},
   "source": [
    "Hence the columns are **dropped** because they are assumed to be **irrelevant** for further analysis."
   ]
  },
  {
   "cell_type": "code",
   "execution_count": 7,
   "metadata": {},
   "outputs": [],
   "source": [
    "train.drop(['alley','fence'], axis = 1, inplace = True)"
   ]
  },
  {
   "cell_type": "code",
   "execution_count": 8,
   "metadata": {},
   "outputs": [
    {
     "data": {
      "text/html": [
       "<div>\n",
       "<style scoped>\n",
       "    .dataframe tbody tr th:only-of-type {\n",
       "        vertical-align: middle;\n",
       "    }\n",
       "\n",
       "    .dataframe tbody tr th {\n",
       "        vertical-align: top;\n",
       "    }\n",
       "\n",
       "    .dataframe thead th {\n",
       "        text-align: right;\n",
       "    }\n",
       "</style>\n",
       "<table border=\"1\" class=\"dataframe\">\n",
       "  <thead>\n",
       "    <tr style=\"text-align: right;\">\n",
       "      <th></th>\n",
       "      <th>mszoning</th>\n",
       "      <th>lotarea</th>\n",
       "      <th>utilities</th>\n",
       "      <th>bldgtype</th>\n",
       "      <th>housestyle</th>\n",
       "      <th>yearbuilt</th>\n",
       "      <th>garagearea</th>\n",
       "      <th>poolarea</th>\n",
       "      <th>yrsold</th>\n",
       "      <th>saletype</th>\n",
       "      <th>salecondition</th>\n",
       "      <th>saleprice</th>\n",
       "    </tr>\n",
       "  </thead>\n",
       "  <tbody>\n",
       "    <tr>\n",
       "      <th>0</th>\n",
       "      <td>RL</td>\n",
       "      <td>8450</td>\n",
       "      <td>AllPub</td>\n",
       "      <td>1Fam</td>\n",
       "      <td>2Story</td>\n",
       "      <td>2003</td>\n",
       "      <td>548</td>\n",
       "      <td>0</td>\n",
       "      <td>2008</td>\n",
       "      <td>WD</td>\n",
       "      <td>Normal</td>\n",
       "      <td>208500</td>\n",
       "    </tr>\n",
       "    <tr>\n",
       "      <th>1</th>\n",
       "      <td>RL</td>\n",
       "      <td>9600</td>\n",
       "      <td>AllPub</td>\n",
       "      <td>1Fam</td>\n",
       "      <td>1Story</td>\n",
       "      <td>1976</td>\n",
       "      <td>460</td>\n",
       "      <td>0</td>\n",
       "      <td>2007</td>\n",
       "      <td>WD</td>\n",
       "      <td>Normal</td>\n",
       "      <td>181500</td>\n",
       "    </tr>\n",
       "    <tr>\n",
       "      <th>2</th>\n",
       "      <td>RL</td>\n",
       "      <td>11250</td>\n",
       "      <td>AllPub</td>\n",
       "      <td>1Fam</td>\n",
       "      <td>2Story</td>\n",
       "      <td>2001</td>\n",
       "      <td>608</td>\n",
       "      <td>0</td>\n",
       "      <td>2008</td>\n",
       "      <td>WD</td>\n",
       "      <td>Normal</td>\n",
       "      <td>223500</td>\n",
       "    </tr>\n",
       "    <tr>\n",
       "      <th>3</th>\n",
       "      <td>RL</td>\n",
       "      <td>9550</td>\n",
       "      <td>AllPub</td>\n",
       "      <td>1Fam</td>\n",
       "      <td>2Story</td>\n",
       "      <td>1915</td>\n",
       "      <td>642</td>\n",
       "      <td>0</td>\n",
       "      <td>2006</td>\n",
       "      <td>WD</td>\n",
       "      <td>Abnorml</td>\n",
       "      <td>140000</td>\n",
       "    </tr>\n",
       "    <tr>\n",
       "      <th>4</th>\n",
       "      <td>RL</td>\n",
       "      <td>14260</td>\n",
       "      <td>AllPub</td>\n",
       "      <td>1Fam</td>\n",
       "      <td>2Story</td>\n",
       "      <td>2000</td>\n",
       "      <td>836</td>\n",
       "      <td>0</td>\n",
       "      <td>2008</td>\n",
       "      <td>WD</td>\n",
       "      <td>Normal</td>\n",
       "      <td>250000</td>\n",
       "    </tr>\n",
       "  </tbody>\n",
       "</table>\n",
       "</div>"
      ],
      "text/plain": [
       "  mszoning  lotarea utilities bldgtype housestyle  yearbuilt  garagearea  \\\n",
       "0       RL     8450    AllPub     1Fam     2Story       2003         548   \n",
       "1       RL     9600    AllPub     1Fam     1Story       1976         460   \n",
       "2       RL    11250    AllPub     1Fam     2Story       2001         608   \n",
       "3       RL     9550    AllPub     1Fam     2Story       1915         642   \n",
       "4       RL    14260    AllPub     1Fam     2Story       2000         836   \n",
       "\n",
       "   poolarea  yrsold saletype salecondition  saleprice  \n",
       "0         0    2008       WD        Normal     208500  \n",
       "1         0    2007       WD        Normal     181500  \n",
       "2         0    2008       WD        Normal     223500  \n",
       "3         0    2006       WD       Abnorml     140000  \n",
       "4         0    2008       WD        Normal     250000  "
      ]
     },
     "execution_count": 8,
     "metadata": {},
     "output_type": "execute_result"
    }
   ],
   "source": [
    "train.head()"
   ]
  },
  {
   "cell_type": "markdown",
   "metadata": {},
   "source": [
    "### **2.2 Handling Different Data Types**"
   ]
  },
  {
   "cell_type": "markdown",
   "metadata": {},
   "source": [
    "The datatypes are **integers** and **objects**."
   ]
  },
  {
   "cell_type": "code",
   "execution_count": 9,
   "metadata": {},
   "outputs": [
    {
     "data": {
      "text/plain": [
       "lotarea           int64\n",
       "yearbuilt         int64\n",
       "garagearea        int64\n",
       "poolarea          int64\n",
       "yrsold            int64\n",
       "saleprice         int64\n",
       "mszoning         object\n",
       "utilities        object\n",
       "bldgtype         object\n",
       "housestyle       object\n",
       "saletype         object\n",
       "salecondition    object\n",
       "dtype: object"
      ]
     },
     "execution_count": 9,
     "metadata": {},
     "output_type": "execute_result"
    }
   ],
   "source": [
    "train.dtypes.sort_values()"
   ]
  },
  {
   "cell_type": "markdown",
   "metadata": {},
   "source": [
    "#### **2.2.1 Handling Object Data Types**"
   ]
  },
  {
   "cell_type": "markdown",
   "metadata": {},
   "source": [
    "The following entries are listed for **'object' data types**:"
   ]
  },
  {
   "cell_type": "code",
   "execution_count": 10,
   "metadata": {},
   "outputs": [
    {
     "data": {
      "text/html": [
       "<div>\n",
       "<style scoped>\n",
       "    .dataframe tbody tr th:only-of-type {\n",
       "        vertical-align: middle;\n",
       "    }\n",
       "\n",
       "    .dataframe tbody tr th {\n",
       "        vertical-align: top;\n",
       "    }\n",
       "\n",
       "    .dataframe thead th {\n",
       "        text-align: right;\n",
       "    }\n",
       "</style>\n",
       "<table border=\"1\" class=\"dataframe\">\n",
       "  <thead>\n",
       "    <tr style=\"text-align: right;\">\n",
       "      <th></th>\n",
       "      <th>mszoning</th>\n",
       "      <th>utilities</th>\n",
       "      <th>bldgtype</th>\n",
       "      <th>housestyle</th>\n",
       "      <th>saletype</th>\n",
       "      <th>salecondition</th>\n",
       "    </tr>\n",
       "  </thead>\n",
       "  <tbody>\n",
       "    <tr>\n",
       "      <th>0</th>\n",
       "      <td>RL</td>\n",
       "      <td>AllPub</td>\n",
       "      <td>1Fam</td>\n",
       "      <td>2Story</td>\n",
       "      <td>WD</td>\n",
       "      <td>Normal</td>\n",
       "    </tr>\n",
       "    <tr>\n",
       "      <th>1</th>\n",
       "      <td>RL</td>\n",
       "      <td>AllPub</td>\n",
       "      <td>1Fam</td>\n",
       "      <td>1Story</td>\n",
       "      <td>WD</td>\n",
       "      <td>Normal</td>\n",
       "    </tr>\n",
       "    <tr>\n",
       "      <th>2</th>\n",
       "      <td>RL</td>\n",
       "      <td>AllPub</td>\n",
       "      <td>1Fam</td>\n",
       "      <td>2Story</td>\n",
       "      <td>WD</td>\n",
       "      <td>Normal</td>\n",
       "    </tr>\n",
       "    <tr>\n",
       "      <th>3</th>\n",
       "      <td>RL</td>\n",
       "      <td>AllPub</td>\n",
       "      <td>1Fam</td>\n",
       "      <td>2Story</td>\n",
       "      <td>WD</td>\n",
       "      <td>Abnorml</td>\n",
       "    </tr>\n",
       "    <tr>\n",
       "      <th>4</th>\n",
       "      <td>RL</td>\n",
       "      <td>AllPub</td>\n",
       "      <td>1Fam</td>\n",
       "      <td>2Story</td>\n",
       "      <td>WD</td>\n",
       "      <td>Normal</td>\n",
       "    </tr>\n",
       "  </tbody>\n",
       "</table>\n",
       "</div>"
      ],
      "text/plain": [
       "  mszoning utilities bldgtype housestyle saletype salecondition\n",
       "0       RL    AllPub     1Fam     2Story       WD        Normal\n",
       "1       RL    AllPub     1Fam     1Story       WD        Normal\n",
       "2       RL    AllPub     1Fam     2Story       WD        Normal\n",
       "3       RL    AllPub     1Fam     2Story       WD       Abnorml\n",
       "4       RL    AllPub     1Fam     2Story       WD        Normal"
      ]
     },
     "execution_count": 10,
     "metadata": {},
     "output_type": "execute_result"
    }
   ],
   "source": [
    "train.select_dtypes('object').head()"
   ]
  },
  {
   "cell_type": "code",
   "execution_count": 11,
   "metadata": {},
   "outputs": [
    {
     "data": {
      "text/html": [
       "<div>\n",
       "<style scoped>\n",
       "    .dataframe tbody tr th:only-of-type {\n",
       "        vertical-align: middle;\n",
       "    }\n",
       "\n",
       "    .dataframe tbody tr th {\n",
       "        vertical-align: top;\n",
       "    }\n",
       "\n",
       "    .dataframe thead th {\n",
       "        text-align: right;\n",
       "    }\n",
       "</style>\n",
       "<table border=\"1\" class=\"dataframe\">\n",
       "  <thead>\n",
       "    <tr style=\"text-align: right;\">\n",
       "      <th></th>\n",
       "      <th>mszoning</th>\n",
       "      <th>utilities</th>\n",
       "      <th>bldgtype</th>\n",
       "      <th>housestyle</th>\n",
       "      <th>saletype</th>\n",
       "      <th>salecondition</th>\n",
       "    </tr>\n",
       "  </thead>\n",
       "  <tbody>\n",
       "    <tr>\n",
       "      <th>1455</th>\n",
       "      <td>RL</td>\n",
       "      <td>AllPub</td>\n",
       "      <td>1Fam</td>\n",
       "      <td>2Story</td>\n",
       "      <td>WD</td>\n",
       "      <td>Normal</td>\n",
       "    </tr>\n",
       "    <tr>\n",
       "      <th>1456</th>\n",
       "      <td>RL</td>\n",
       "      <td>AllPub</td>\n",
       "      <td>1Fam</td>\n",
       "      <td>1Story</td>\n",
       "      <td>WD</td>\n",
       "      <td>Normal</td>\n",
       "    </tr>\n",
       "    <tr>\n",
       "      <th>1457</th>\n",
       "      <td>RL</td>\n",
       "      <td>AllPub</td>\n",
       "      <td>1Fam</td>\n",
       "      <td>2Story</td>\n",
       "      <td>WD</td>\n",
       "      <td>Normal</td>\n",
       "    </tr>\n",
       "    <tr>\n",
       "      <th>1458</th>\n",
       "      <td>RL</td>\n",
       "      <td>AllPub</td>\n",
       "      <td>1Fam</td>\n",
       "      <td>1Story</td>\n",
       "      <td>WD</td>\n",
       "      <td>Normal</td>\n",
       "    </tr>\n",
       "    <tr>\n",
       "      <th>1459</th>\n",
       "      <td>RL</td>\n",
       "      <td>AllPub</td>\n",
       "      <td>1Fam</td>\n",
       "      <td>1Story</td>\n",
       "      <td>WD</td>\n",
       "      <td>Normal</td>\n",
       "    </tr>\n",
       "  </tbody>\n",
       "</table>\n",
       "</div>"
      ],
      "text/plain": [
       "     mszoning utilities bldgtype housestyle saletype salecondition\n",
       "1455       RL    AllPub     1Fam     2Story       WD        Normal\n",
       "1456       RL    AllPub     1Fam     1Story       WD        Normal\n",
       "1457       RL    AllPub     1Fam     2Story       WD        Normal\n",
       "1458       RL    AllPub     1Fam     1Story       WD        Normal\n",
       "1459       RL    AllPub     1Fam     1Story       WD        Normal"
      ]
     },
     "execution_count": 11,
     "metadata": {},
     "output_type": "execute_result"
    }
   ],
   "source": [
    "train.select_dtypes('object').tail()"
   ]
  },
  {
   "cell_type": "markdown",
   "metadata": {},
   "source": [
    "Since some columns seem to only contain one value, they are further investigated."
   ]
  },
  {
   "cell_type": "markdown",
   "metadata": {},
   "source": [
    "Most zones are of the **RL** and **RM type** <Link>(https://www.qcode.us/codes/huntingtonbeach/view.php?topic=zoning_code-21-210-210_06)."
   ]
  },
  {
   "cell_type": "code",
   "execution_count": 12,
   "metadata": {},
   "outputs": [
    {
     "data": {
      "text/plain": [
       "RL         1151\n",
       "RM          218\n",
       "FV           65\n",
       "RH           16\n",
       "C (all)      10\n",
       "Name: mszoning, dtype: int64"
      ]
     },
     "execution_count": 12,
     "metadata": {},
     "output_type": "execute_result"
    }
   ],
   "source": [
    "mszoning = train.mszoning.value_counts()\n",
    "mszoning"
   ]
  },
  {
   "cell_type": "code",
   "execution_count": 13,
   "metadata": {},
   "outputs": [
    {
     "data": {
      "text/plain": [
       "RL         0.788356\n",
       "RM         0.149315\n",
       "FV         0.044521\n",
       "RH         0.010959\n",
       "C (all)    0.006849\n",
       "Name: mszoning, dtype: float64"
      ]
     },
     "execution_count": 13,
     "metadata": {},
     "output_type": "execute_result"
    }
   ],
   "source": [
    "mszoning/len(train)"
   ]
  },
  {
   "cell_type": "markdown",
   "metadata": {},
   "source": [
    "Since the other values are assumed to be negligable, a new dataframe is created with **only RL and RM**."
   ]
  },
  {
   "cell_type": "code",
   "execution_count": 14,
   "metadata": {},
   "outputs": [],
   "source": [
    "train2 = train[(train['mszoning'] == 'RL') | (train['mszoning'] == 'RM')]"
   ]
  },
  {
   "cell_type": "markdown",
   "metadata": {},
   "source": [
    "Since **all but one** entries for 'utilities' are 'AllPub', it makes no difference to keep that column."
   ]
  },
  {
   "cell_type": "code",
   "execution_count": 15,
   "metadata": {},
   "outputs": [
    {
     "data": {
      "text/plain": [
       "AllPub    1368\n",
       "NoSeWa       1\n",
       "Name: utilities, dtype: int64"
      ]
     },
     "execution_count": 15,
     "metadata": {},
     "output_type": "execute_result"
    }
   ],
   "source": [
    "train2.utilities.value_counts()"
   ]
  },
  {
   "cell_type": "markdown",
   "metadata": {},
   "source": [
    "Hence column 'utilities' is **dropped**."
   ]
  },
  {
   "cell_type": "code",
   "execution_count": 16,
   "metadata": {},
   "outputs": [],
   "source": [
    "train3 = train2.drop('utilities', axis = 1)"
   ]
  },
  {
   "cell_type": "code",
   "execution_count": 17,
   "metadata": {},
   "outputs": [
    {
     "data": {
      "text/html": [
       "<div>\n",
       "<style scoped>\n",
       "    .dataframe tbody tr th:only-of-type {\n",
       "        vertical-align: middle;\n",
       "    }\n",
       "\n",
       "    .dataframe tbody tr th {\n",
       "        vertical-align: top;\n",
       "    }\n",
       "\n",
       "    .dataframe thead th {\n",
       "        text-align: right;\n",
       "    }\n",
       "</style>\n",
       "<table border=\"1\" class=\"dataframe\">\n",
       "  <thead>\n",
       "    <tr style=\"text-align: right;\">\n",
       "      <th></th>\n",
       "      <th>mszoning</th>\n",
       "      <th>lotarea</th>\n",
       "      <th>bldgtype</th>\n",
       "      <th>housestyle</th>\n",
       "      <th>yearbuilt</th>\n",
       "      <th>garagearea</th>\n",
       "      <th>poolarea</th>\n",
       "      <th>yrsold</th>\n",
       "      <th>saletype</th>\n",
       "      <th>salecondition</th>\n",
       "      <th>saleprice</th>\n",
       "    </tr>\n",
       "  </thead>\n",
       "  <tbody>\n",
       "    <tr>\n",
       "      <th>0</th>\n",
       "      <td>RL</td>\n",
       "      <td>8450</td>\n",
       "      <td>1Fam</td>\n",
       "      <td>2Story</td>\n",
       "      <td>2003</td>\n",
       "      <td>548</td>\n",
       "      <td>0</td>\n",
       "      <td>2008</td>\n",
       "      <td>WD</td>\n",
       "      <td>Normal</td>\n",
       "      <td>208500</td>\n",
       "    </tr>\n",
       "    <tr>\n",
       "      <th>1</th>\n",
       "      <td>RL</td>\n",
       "      <td>9600</td>\n",
       "      <td>1Fam</td>\n",
       "      <td>1Story</td>\n",
       "      <td>1976</td>\n",
       "      <td>460</td>\n",
       "      <td>0</td>\n",
       "      <td>2007</td>\n",
       "      <td>WD</td>\n",
       "      <td>Normal</td>\n",
       "      <td>181500</td>\n",
       "    </tr>\n",
       "    <tr>\n",
       "      <th>2</th>\n",
       "      <td>RL</td>\n",
       "      <td>11250</td>\n",
       "      <td>1Fam</td>\n",
       "      <td>2Story</td>\n",
       "      <td>2001</td>\n",
       "      <td>608</td>\n",
       "      <td>0</td>\n",
       "      <td>2008</td>\n",
       "      <td>WD</td>\n",
       "      <td>Normal</td>\n",
       "      <td>223500</td>\n",
       "    </tr>\n",
       "    <tr>\n",
       "      <th>3</th>\n",
       "      <td>RL</td>\n",
       "      <td>9550</td>\n",
       "      <td>1Fam</td>\n",
       "      <td>2Story</td>\n",
       "      <td>1915</td>\n",
       "      <td>642</td>\n",
       "      <td>0</td>\n",
       "      <td>2006</td>\n",
       "      <td>WD</td>\n",
       "      <td>Abnorml</td>\n",
       "      <td>140000</td>\n",
       "    </tr>\n",
       "    <tr>\n",
       "      <th>4</th>\n",
       "      <td>RL</td>\n",
       "      <td>14260</td>\n",
       "      <td>1Fam</td>\n",
       "      <td>2Story</td>\n",
       "      <td>2000</td>\n",
       "      <td>836</td>\n",
       "      <td>0</td>\n",
       "      <td>2008</td>\n",
       "      <td>WD</td>\n",
       "      <td>Normal</td>\n",
       "      <td>250000</td>\n",
       "    </tr>\n",
       "  </tbody>\n",
       "</table>\n",
       "</div>"
      ],
      "text/plain": [
       "  mszoning  lotarea bldgtype housestyle  yearbuilt  garagearea  poolarea  \\\n",
       "0       RL     8450     1Fam     2Story       2003         548         0   \n",
       "1       RL     9600     1Fam     1Story       1976         460         0   \n",
       "2       RL    11250     1Fam     2Story       2001         608         0   \n",
       "3       RL     9550     1Fam     2Story       1915         642         0   \n",
       "4       RL    14260     1Fam     2Story       2000         836         0   \n",
       "\n",
       "   yrsold saletype salecondition  saleprice  \n",
       "0    2008       WD        Normal     208500  \n",
       "1    2007       WD        Normal     181500  \n",
       "2    2008       WD        Normal     223500  \n",
       "3    2006       WD       Abnorml     140000  \n",
       "4    2008       WD        Normal     250000  "
      ]
     },
     "execution_count": 17,
     "metadata": {},
     "output_type": "execute_result"
    }
   ],
   "source": [
    "train3.head()"
   ]
  },
  {
   "cell_type": "markdown",
   "metadata": {},
   "source": [
    "Most building types are **family houses**."
   ]
  },
  {
   "cell_type": "code",
   "execution_count": 18,
   "metadata": {},
   "outputs": [
    {
     "data": {
      "text/plain": [
       "1Fam      1164\n",
       "TwnhsE      94\n",
       "Duplex      49\n",
       "Twnhs       34\n",
       "2fmCon      28\n",
       "Name: bldgtype, dtype: int64"
      ]
     },
     "execution_count": 18,
     "metadata": {},
     "output_type": "execute_result"
    }
   ],
   "source": [
    "building_types = train3.bldgtype.value_counts()\n",
    "building_types"
   ]
  },
  {
   "cell_type": "markdown",
   "metadata": {},
   "source": [
    "Less than **20%** of the dataset are not 'family houses'. Assuming that 'TwnhsE' and 'Twnhs' both refer to **townhouses**, summed they make up around only **10%**."
   ]
  },
  {
   "cell_type": "code",
   "execution_count": 19,
   "metadata": {},
   "outputs": [
    {
     "data": {
      "text/plain": [
       "1Fam      0.850256\n",
       "TwnhsE    0.068663\n",
       "Duplex    0.035793\n",
       "Twnhs     0.024836\n",
       "2fmCon    0.020453\n",
       "Name: bldgtype, dtype: float64"
      ]
     },
     "execution_count": 19,
     "metadata": {},
     "output_type": "execute_result"
    }
   ],
   "source": [
    "building_types/len(train3)"
   ]
  },
  {
   "cell_type": "markdown",
   "metadata": {},
   "source": [
    "For a cleaner dataset rows **TwnhsE**, **'Duplex'**, **'Twnhs'** and **'2fmCon'** are ignored and a new dataframe is created. Henceforth the analysis is limited to **family houses** and the column **bldgtype** is dropped."
   ]
  },
  {
   "cell_type": "code",
   "execution_count": 20,
   "metadata": {},
   "outputs": [
    {
     "data": {
      "text/html": [
       "<div>\n",
       "<style scoped>\n",
       "    .dataframe tbody tr th:only-of-type {\n",
       "        vertical-align: middle;\n",
       "    }\n",
       "\n",
       "    .dataframe tbody tr th {\n",
       "        vertical-align: top;\n",
       "    }\n",
       "\n",
       "    .dataframe thead th {\n",
       "        text-align: right;\n",
       "    }\n",
       "</style>\n",
       "<table border=\"1\" class=\"dataframe\">\n",
       "  <thead>\n",
       "    <tr style=\"text-align: right;\">\n",
       "      <th></th>\n",
       "      <th>mszoning</th>\n",
       "      <th>lotarea</th>\n",
       "      <th>housestyle</th>\n",
       "      <th>yearbuilt</th>\n",
       "      <th>garagearea</th>\n",
       "      <th>poolarea</th>\n",
       "      <th>yrsold</th>\n",
       "      <th>saletype</th>\n",
       "      <th>salecondition</th>\n",
       "      <th>saleprice</th>\n",
       "    </tr>\n",
       "  </thead>\n",
       "  <tbody>\n",
       "    <tr>\n",
       "      <th>0</th>\n",
       "      <td>RL</td>\n",
       "      <td>8450</td>\n",
       "      <td>2Story</td>\n",
       "      <td>2003</td>\n",
       "      <td>548</td>\n",
       "      <td>0</td>\n",
       "      <td>2008</td>\n",
       "      <td>WD</td>\n",
       "      <td>Normal</td>\n",
       "      <td>208500</td>\n",
       "    </tr>\n",
       "    <tr>\n",
       "      <th>1</th>\n",
       "      <td>RL</td>\n",
       "      <td>9600</td>\n",
       "      <td>1Story</td>\n",
       "      <td>1976</td>\n",
       "      <td>460</td>\n",
       "      <td>0</td>\n",
       "      <td>2007</td>\n",
       "      <td>WD</td>\n",
       "      <td>Normal</td>\n",
       "      <td>181500</td>\n",
       "    </tr>\n",
       "    <tr>\n",
       "      <th>2</th>\n",
       "      <td>RL</td>\n",
       "      <td>11250</td>\n",
       "      <td>2Story</td>\n",
       "      <td>2001</td>\n",
       "      <td>608</td>\n",
       "      <td>0</td>\n",
       "      <td>2008</td>\n",
       "      <td>WD</td>\n",
       "      <td>Normal</td>\n",
       "      <td>223500</td>\n",
       "    </tr>\n",
       "    <tr>\n",
       "      <th>3</th>\n",
       "      <td>RL</td>\n",
       "      <td>9550</td>\n",
       "      <td>2Story</td>\n",
       "      <td>1915</td>\n",
       "      <td>642</td>\n",
       "      <td>0</td>\n",
       "      <td>2006</td>\n",
       "      <td>WD</td>\n",
       "      <td>Abnorml</td>\n",
       "      <td>140000</td>\n",
       "    </tr>\n",
       "    <tr>\n",
       "      <th>4</th>\n",
       "      <td>RL</td>\n",
       "      <td>14260</td>\n",
       "      <td>2Story</td>\n",
       "      <td>2000</td>\n",
       "      <td>836</td>\n",
       "      <td>0</td>\n",
       "      <td>2008</td>\n",
       "      <td>WD</td>\n",
       "      <td>Normal</td>\n",
       "      <td>250000</td>\n",
       "    </tr>\n",
       "  </tbody>\n",
       "</table>\n",
       "</div>"
      ],
      "text/plain": [
       "  mszoning  lotarea housestyle  yearbuilt  garagearea  poolarea  yrsold  \\\n",
       "0       RL     8450     2Story       2003         548         0    2008   \n",
       "1       RL     9600     1Story       1976         460         0    2007   \n",
       "2       RL    11250     2Story       2001         608         0    2008   \n",
       "3       RL     9550     2Story       1915         642         0    2006   \n",
       "4       RL    14260     2Story       2000         836         0    2008   \n",
       "\n",
       "  saletype salecondition  saleprice  \n",
       "0       WD        Normal     208500  \n",
       "1       WD        Normal     181500  \n",
       "2       WD        Normal     223500  \n",
       "3       WD       Abnorml     140000  \n",
       "4       WD        Normal     250000  "
      ]
     },
     "execution_count": 20,
     "metadata": {},
     "output_type": "execute_result"
    }
   ],
   "source": [
    "train4 = train3[train3['bldgtype'] == '1Fam']\n",
    "train5 = train4.drop('bldgtype', axis = 1)\n",
    "train5.head()"
   ]
  },
  {
   "cell_type": "markdown",
   "metadata": {},
   "source": [
    "Most sales types are **warranty deed**. <Link>(https://www.investopedia.com/terms/w/warranty-deed.asp)"
   ]
  },
  {
   "cell_type": "code",
   "execution_count": 21,
   "metadata": {},
   "outputs": [
    {
     "data": {
      "text/plain": [
       "WD       1029\n",
       "New        87\n",
       "COD        32\n",
       "ConLI       4\n",
       "ConLw       4\n",
       "ConLD       3\n",
       "CWD         3\n",
       "Oth         2\n",
       "Name: saletype, dtype: int64"
      ]
     },
     "execution_count": 21,
     "metadata": {},
     "output_type": "execute_result"
    }
   ],
   "source": [
    "sales_type = train5.saletype.value_counts()\n",
    "sales_type"
   ]
  },
  {
   "cell_type": "markdown",
   "metadata": {},
   "source": [
    "Almost **90%** are warranty deed."
   ]
  },
  {
   "cell_type": "code",
   "execution_count": 22,
   "metadata": {},
   "outputs": [
    {
     "data": {
      "text/plain": [
       "WD       0.884021\n",
       "New      0.074742\n",
       "COD      0.027491\n",
       "ConLI    0.003436\n",
       "ConLw    0.003436\n",
       "ConLD    0.002577\n",
       "CWD      0.002577\n",
       "Oth      0.001718\n",
       "Name: saletype, dtype: float64"
      ]
     },
     "execution_count": 22,
     "metadata": {},
     "output_type": "execute_result"
    }
   ],
   "source": [
    "sales_type/len(train5)"
   ]
  },
  {
   "cell_type": "markdown",
   "metadata": {},
   "source": [
    "Since the other sales types are assumed to be negligable, a new dataframe is created only with **warranty deed**. Column **'saletype'** is then dropped."
   ]
  },
  {
   "cell_type": "code",
   "execution_count": 23,
   "metadata": {},
   "outputs": [
    {
     "data": {
      "text/html": [
       "<div>\n",
       "<style scoped>\n",
       "    .dataframe tbody tr th:only-of-type {\n",
       "        vertical-align: middle;\n",
       "    }\n",
       "\n",
       "    .dataframe tbody tr th {\n",
       "        vertical-align: top;\n",
       "    }\n",
       "\n",
       "    .dataframe thead th {\n",
       "        text-align: right;\n",
       "    }\n",
       "</style>\n",
       "<table border=\"1\" class=\"dataframe\">\n",
       "  <thead>\n",
       "    <tr style=\"text-align: right;\">\n",
       "      <th></th>\n",
       "      <th>mszoning</th>\n",
       "      <th>lotarea</th>\n",
       "      <th>housestyle</th>\n",
       "      <th>yearbuilt</th>\n",
       "      <th>garagearea</th>\n",
       "      <th>poolarea</th>\n",
       "      <th>yrsold</th>\n",
       "      <th>salecondition</th>\n",
       "      <th>saleprice</th>\n",
       "    </tr>\n",
       "  </thead>\n",
       "  <tbody>\n",
       "    <tr>\n",
       "      <th>0</th>\n",
       "      <td>RL</td>\n",
       "      <td>8450</td>\n",
       "      <td>2Story</td>\n",
       "      <td>2003</td>\n",
       "      <td>548</td>\n",
       "      <td>0</td>\n",
       "      <td>2008</td>\n",
       "      <td>Normal</td>\n",
       "      <td>208500</td>\n",
       "    </tr>\n",
       "    <tr>\n",
       "      <th>1</th>\n",
       "      <td>RL</td>\n",
       "      <td>9600</td>\n",
       "      <td>1Story</td>\n",
       "      <td>1976</td>\n",
       "      <td>460</td>\n",
       "      <td>0</td>\n",
       "      <td>2007</td>\n",
       "      <td>Normal</td>\n",
       "      <td>181500</td>\n",
       "    </tr>\n",
       "    <tr>\n",
       "      <th>2</th>\n",
       "      <td>RL</td>\n",
       "      <td>11250</td>\n",
       "      <td>2Story</td>\n",
       "      <td>2001</td>\n",
       "      <td>608</td>\n",
       "      <td>0</td>\n",
       "      <td>2008</td>\n",
       "      <td>Normal</td>\n",
       "      <td>223500</td>\n",
       "    </tr>\n",
       "    <tr>\n",
       "      <th>3</th>\n",
       "      <td>RL</td>\n",
       "      <td>9550</td>\n",
       "      <td>2Story</td>\n",
       "      <td>1915</td>\n",
       "      <td>642</td>\n",
       "      <td>0</td>\n",
       "      <td>2006</td>\n",
       "      <td>Abnorml</td>\n",
       "      <td>140000</td>\n",
       "    </tr>\n",
       "    <tr>\n",
       "      <th>4</th>\n",
       "      <td>RL</td>\n",
       "      <td>14260</td>\n",
       "      <td>2Story</td>\n",
       "      <td>2000</td>\n",
       "      <td>836</td>\n",
       "      <td>0</td>\n",
       "      <td>2008</td>\n",
       "      <td>Normal</td>\n",
       "      <td>250000</td>\n",
       "    </tr>\n",
       "  </tbody>\n",
       "</table>\n",
       "</div>"
      ],
      "text/plain": [
       "  mszoning  lotarea housestyle  yearbuilt  garagearea  poolarea  yrsold  \\\n",
       "0       RL     8450     2Story       2003         548         0    2008   \n",
       "1       RL     9600     1Story       1976         460         0    2007   \n",
       "2       RL    11250     2Story       2001         608         0    2008   \n",
       "3       RL     9550     2Story       1915         642         0    2006   \n",
       "4       RL    14260     2Story       2000         836         0    2008   \n",
       "\n",
       "  salecondition  saleprice  \n",
       "0        Normal     208500  \n",
       "1        Normal     181500  \n",
       "2        Normal     223500  \n",
       "3       Abnorml     140000  \n",
       "4        Normal     250000  "
      ]
     },
     "execution_count": 23,
     "metadata": {},
     "output_type": "execute_result"
    }
   ],
   "source": [
    "train6 = train5[train5['saletype'] == 'WD']\n",
    "train7 = train6.drop('saletype', axis = 1)\n",
    "train7.head()"
   ]
  },
  {
   "cell_type": "markdown",
   "metadata": {},
   "source": [
    "Most houses are in a **normal sales condition**."
   ]
  },
  {
   "cell_type": "code",
   "execution_count": 24,
   "metadata": {},
   "outputs": [
    {
     "data": {
      "text/plain": [
       "Normal     950\n",
       "Abnorml     57\n",
       "Family      14\n",
       "Alloca       4\n",
       "AdjLand      2\n",
       "Partial      2\n",
       "Name: salecondition, dtype: int64"
      ]
     },
     "execution_count": 24,
     "metadata": {},
     "output_type": "execute_result"
    }
   ],
   "source": [
    "sales_condition = train7.salecondition.value_counts()\n",
    "sales_condition"
   ]
  },
  {
   "cell_type": "markdown",
   "metadata": {},
   "source": [
    "More than **90%** are in a normal sales condition. "
   ]
  },
  {
   "cell_type": "code",
   "execution_count": 25,
   "metadata": {},
   "outputs": [
    {
     "data": {
      "text/plain": [
       "Normal     0.923226\n",
       "Abnorml    0.055394\n",
       "Family     0.013605\n",
       "Alloca     0.003887\n",
       "AdjLand    0.001944\n",
       "Partial    0.001944\n",
       "Name: salecondition, dtype: float64"
      ]
     },
     "execution_count": 25,
     "metadata": {},
     "output_type": "execute_result"
    }
   ],
   "source": [
    "sales_condition/len(train7)"
   ]
  },
  {
   "cell_type": "markdown",
   "metadata": {},
   "source": [
    "Since the rest is assumed to be irrelevant for further analysis, it is ignored and a new dataframe is created only with **normal sales condition**. Column **'salecondition'** is then dropped."
   ]
  },
  {
   "cell_type": "code",
   "execution_count": 26,
   "metadata": {},
   "outputs": [
    {
     "data": {
      "text/html": [
       "<div>\n",
       "<style scoped>\n",
       "    .dataframe tbody tr th:only-of-type {\n",
       "        vertical-align: middle;\n",
       "    }\n",
       "\n",
       "    .dataframe tbody tr th {\n",
       "        vertical-align: top;\n",
       "    }\n",
       "\n",
       "    .dataframe thead th {\n",
       "        text-align: right;\n",
       "    }\n",
       "</style>\n",
       "<table border=\"1\" class=\"dataframe\">\n",
       "  <thead>\n",
       "    <tr style=\"text-align: right;\">\n",
       "      <th></th>\n",
       "      <th>mszoning</th>\n",
       "      <th>lotarea</th>\n",
       "      <th>housestyle</th>\n",
       "      <th>yearbuilt</th>\n",
       "      <th>garagearea</th>\n",
       "      <th>poolarea</th>\n",
       "      <th>yrsold</th>\n",
       "      <th>saleprice</th>\n",
       "    </tr>\n",
       "  </thead>\n",
       "  <tbody>\n",
       "    <tr>\n",
       "      <th>0</th>\n",
       "      <td>RL</td>\n",
       "      <td>8450</td>\n",
       "      <td>2Story</td>\n",
       "      <td>2003</td>\n",
       "      <td>548</td>\n",
       "      <td>0</td>\n",
       "      <td>2008</td>\n",
       "      <td>208500</td>\n",
       "    </tr>\n",
       "    <tr>\n",
       "      <th>1</th>\n",
       "      <td>RL</td>\n",
       "      <td>9600</td>\n",
       "      <td>1Story</td>\n",
       "      <td>1976</td>\n",
       "      <td>460</td>\n",
       "      <td>0</td>\n",
       "      <td>2007</td>\n",
       "      <td>181500</td>\n",
       "    </tr>\n",
       "    <tr>\n",
       "      <th>2</th>\n",
       "      <td>RL</td>\n",
       "      <td>11250</td>\n",
       "      <td>2Story</td>\n",
       "      <td>2001</td>\n",
       "      <td>608</td>\n",
       "      <td>0</td>\n",
       "      <td>2008</td>\n",
       "      <td>223500</td>\n",
       "    </tr>\n",
       "    <tr>\n",
       "      <th>4</th>\n",
       "      <td>RL</td>\n",
       "      <td>14260</td>\n",
       "      <td>2Story</td>\n",
       "      <td>2000</td>\n",
       "      <td>836</td>\n",
       "      <td>0</td>\n",
       "      <td>2008</td>\n",
       "      <td>250000</td>\n",
       "    </tr>\n",
       "    <tr>\n",
       "      <th>5</th>\n",
       "      <td>RL</td>\n",
       "      <td>14115</td>\n",
       "      <td>1.5Fin</td>\n",
       "      <td>1993</td>\n",
       "      <td>480</td>\n",
       "      <td>0</td>\n",
       "      <td>2009</td>\n",
       "      <td>143000</td>\n",
       "    </tr>\n",
       "  </tbody>\n",
       "</table>\n",
       "</div>"
      ],
      "text/plain": [
       "  mszoning  lotarea housestyle  yearbuilt  garagearea  poolarea  yrsold  \\\n",
       "0       RL     8450     2Story       2003         548         0    2008   \n",
       "1       RL     9600     1Story       1976         460         0    2007   \n",
       "2       RL    11250     2Story       2001         608         0    2008   \n",
       "4       RL    14260     2Story       2000         836         0    2008   \n",
       "5       RL    14115     1.5Fin       1993         480         0    2009   \n",
       "\n",
       "   saleprice  \n",
       "0     208500  \n",
       "1     181500  \n",
       "2     223500  \n",
       "4     250000  \n",
       "5     143000  "
      ]
     },
     "execution_count": 26,
     "metadata": {},
     "output_type": "execute_result"
    }
   ],
   "source": [
    "train8 = train7[train7['salecondition'] == 'Normal']\n",
    "train9 = train8.drop('salecondition', axis = 1)\n",
    "train9.head()"
   ]
  },
  {
   "cell_type": "markdown",
   "metadata": {},
   "source": [
    "After the columns of object data type which were suspected of only one entry have been analyzed, the **rest** is investigated."
   ]
  },
  {
   "cell_type": "markdown",
   "metadata": {},
   "source": [
    "Most houses have **one** or **two stories**."
   ]
  },
  {
   "cell_type": "code",
   "execution_count": 27,
   "metadata": {},
   "outputs": [
    {
     "data": {
      "text/plain": [
       "1Story    463\n",
       "2Story    275\n",
       "1.5Fin    119\n",
       "SLvl       50\n",
       "SFoyer     17\n",
       "1.5Unf     12\n",
       "2.5Unf      8\n",
       "2.5Fin      6\n",
       "Name: housestyle, dtype: int64"
      ]
     },
     "execution_count": 27,
     "metadata": {},
     "output_type": "execute_result"
    }
   ],
   "source": [
    "housestyle = train9.housestyle.value_counts()\n",
    "housestyle"
   ]
  },
  {
   "cell_type": "markdown",
   "metadata": {},
   "source": [
    "Since almost **95%** have **one** or **two** stories, the rest can be ignored. A new dataframe is created."
   ]
  },
  {
   "cell_type": "code",
   "execution_count": 28,
   "metadata": {},
   "outputs": [
    {
     "data": {
      "text/plain": [
       "1Story    57.875\n",
       "2Story    34.375\n",
       "1.5Fin    14.875\n",
       "SLvl       6.250\n",
       "SFoyer     2.125\n",
       "1.5Unf     1.500\n",
       "2.5Unf     1.000\n",
       "2.5Fin     0.750\n",
       "Name: housestyle, dtype: float64"
      ]
     },
     "execution_count": 28,
     "metadata": {},
     "output_type": "execute_result"
    }
   ],
   "source": [
    "housestyle/len(housestyle)"
   ]
  },
  {
   "cell_type": "code",
   "execution_count": 29,
   "metadata": {},
   "outputs": [
    {
     "name": "stderr",
     "output_type": "stream",
     "text": [
      "<ipython-input-29-1ba477618fe3>:1: UserWarning: Boolean Series key will be reindexed to match DataFrame index.\n",
      "  train10 = train9[(train9['housestyle'] == '1Story') | (train4['housestyle'] == '2Story')]\n"
     ]
    },
    {
     "data": {
      "text/html": [
       "<div>\n",
       "<style scoped>\n",
       "    .dataframe tbody tr th:only-of-type {\n",
       "        vertical-align: middle;\n",
       "    }\n",
       "\n",
       "    .dataframe tbody tr th {\n",
       "        vertical-align: top;\n",
       "    }\n",
       "\n",
       "    .dataframe thead th {\n",
       "        text-align: right;\n",
       "    }\n",
       "</style>\n",
       "<table border=\"1\" class=\"dataframe\">\n",
       "  <thead>\n",
       "    <tr style=\"text-align: right;\">\n",
       "      <th></th>\n",
       "      <th>mszoning</th>\n",
       "      <th>lotarea</th>\n",
       "      <th>housestyle</th>\n",
       "      <th>yearbuilt</th>\n",
       "      <th>garagearea</th>\n",
       "      <th>poolarea</th>\n",
       "      <th>yrsold</th>\n",
       "      <th>saleprice</th>\n",
       "    </tr>\n",
       "  </thead>\n",
       "  <tbody>\n",
       "    <tr>\n",
       "      <th>0</th>\n",
       "      <td>RL</td>\n",
       "      <td>8450</td>\n",
       "      <td>2Story</td>\n",
       "      <td>2003</td>\n",
       "      <td>548</td>\n",
       "      <td>0</td>\n",
       "      <td>2008</td>\n",
       "      <td>208500</td>\n",
       "    </tr>\n",
       "    <tr>\n",
       "      <th>1</th>\n",
       "      <td>RL</td>\n",
       "      <td>9600</td>\n",
       "      <td>1Story</td>\n",
       "      <td>1976</td>\n",
       "      <td>460</td>\n",
       "      <td>0</td>\n",
       "      <td>2007</td>\n",
       "      <td>181500</td>\n",
       "    </tr>\n",
       "    <tr>\n",
       "      <th>2</th>\n",
       "      <td>RL</td>\n",
       "      <td>11250</td>\n",
       "      <td>2Story</td>\n",
       "      <td>2001</td>\n",
       "      <td>608</td>\n",
       "      <td>0</td>\n",
       "      <td>2008</td>\n",
       "      <td>223500</td>\n",
       "    </tr>\n",
       "    <tr>\n",
       "      <th>4</th>\n",
       "      <td>RL</td>\n",
       "      <td>14260</td>\n",
       "      <td>2Story</td>\n",
       "      <td>2000</td>\n",
       "      <td>836</td>\n",
       "      <td>0</td>\n",
       "      <td>2008</td>\n",
       "      <td>250000</td>\n",
       "    </tr>\n",
       "    <tr>\n",
       "      <th>6</th>\n",
       "      <td>RL</td>\n",
       "      <td>10084</td>\n",
       "      <td>1Story</td>\n",
       "      <td>2004</td>\n",
       "      <td>636</td>\n",
       "      <td>0</td>\n",
       "      <td>2007</td>\n",
       "      <td>307000</td>\n",
       "    </tr>\n",
       "  </tbody>\n",
       "</table>\n",
       "</div>"
      ],
      "text/plain": [
       "  mszoning  lotarea housestyle  yearbuilt  garagearea  poolarea  yrsold  \\\n",
       "0       RL     8450     2Story       2003         548         0    2008   \n",
       "1       RL     9600     1Story       1976         460         0    2007   \n",
       "2       RL    11250     2Story       2001         608         0    2008   \n",
       "4       RL    14260     2Story       2000         836         0    2008   \n",
       "6       RL    10084     1Story       2004         636         0    2007   \n",
       "\n",
       "   saleprice  \n",
       "0     208500  \n",
       "1     181500  \n",
       "2     223500  \n",
       "4     250000  \n",
       "6     307000  "
      ]
     },
     "execution_count": 29,
     "metadata": {},
     "output_type": "execute_result"
    }
   ],
   "source": [
    "train10 = train9[(train9['housestyle'] == '1Story') | (train4['housestyle'] == '2Story')]\n",
    "train10.head()"
   ]
  },
  {
   "cell_type": "markdown",
   "metadata": {},
   "source": [
    "After cleaning the data **9 columns** and **764 rows** remain, which is still sufficient for further analysis."
   ]
  },
  {
   "cell_type": "code",
   "execution_count": 30,
   "metadata": {},
   "outputs": [
    {
     "data": {
      "text/plain": [
       "(738, 8)"
      ]
     },
     "execution_count": 30,
     "metadata": {},
     "output_type": "execute_result"
    }
   ],
   "source": [
    "train10.shape"
   ]
  },
  {
   "cell_type": "markdown",
   "metadata": {},
   "source": [
    "Henceforth the following assumptions have to be kept in mind:\n",
    "\n",
    "1. All sold houses were **family houses** ('1Fam').\n",
    "2. All sold houses had **one or two stories**.\n",
    "3. All sold houses were in **normal sales condition**.\n",
    "4. All sold houses had the sales type **warranty deed**.\n",
    "5. All sold houses had **standard electicity** ('AllPub').\n",
    "6. Most houses have the zoning classification **RL or RM**. "
   ]
  },
  {
   "cell_type": "markdown",
   "metadata": {},
   "source": [
    "#### **2.2.2 Handling Numeric Data Types**"
   ]
  },
  {
   "cell_type": "markdown",
   "metadata": {},
   "source": [
    "The following entries are listed for **'numeric' data types**:"
   ]
  },
  {
   "cell_type": "code",
   "execution_count": 31,
   "metadata": {},
   "outputs": [
    {
     "data": {
      "text/html": [
       "<div>\n",
       "<style scoped>\n",
       "    .dataframe tbody tr th:only-of-type {\n",
       "        vertical-align: middle;\n",
       "    }\n",
       "\n",
       "    .dataframe tbody tr th {\n",
       "        vertical-align: top;\n",
       "    }\n",
       "\n",
       "    .dataframe thead th {\n",
       "        text-align: right;\n",
       "    }\n",
       "</style>\n",
       "<table border=\"1\" class=\"dataframe\">\n",
       "  <thead>\n",
       "    <tr style=\"text-align: right;\">\n",
       "      <th></th>\n",
       "      <th>lotarea</th>\n",
       "      <th>yearbuilt</th>\n",
       "      <th>garagearea</th>\n",
       "      <th>poolarea</th>\n",
       "      <th>yrsold</th>\n",
       "      <th>saleprice</th>\n",
       "    </tr>\n",
       "  </thead>\n",
       "  <tbody>\n",
       "    <tr>\n",
       "      <th>0</th>\n",
       "      <td>8450</td>\n",
       "      <td>2003</td>\n",
       "      <td>548</td>\n",
       "      <td>0</td>\n",
       "      <td>2008</td>\n",
       "      <td>208500</td>\n",
       "    </tr>\n",
       "    <tr>\n",
       "      <th>1</th>\n",
       "      <td>9600</td>\n",
       "      <td>1976</td>\n",
       "      <td>460</td>\n",
       "      <td>0</td>\n",
       "      <td>2007</td>\n",
       "      <td>181500</td>\n",
       "    </tr>\n",
       "    <tr>\n",
       "      <th>2</th>\n",
       "      <td>11250</td>\n",
       "      <td>2001</td>\n",
       "      <td>608</td>\n",
       "      <td>0</td>\n",
       "      <td>2008</td>\n",
       "      <td>223500</td>\n",
       "    </tr>\n",
       "    <tr>\n",
       "      <th>4</th>\n",
       "      <td>14260</td>\n",
       "      <td>2000</td>\n",
       "      <td>836</td>\n",
       "      <td>0</td>\n",
       "      <td>2008</td>\n",
       "      <td>250000</td>\n",
       "    </tr>\n",
       "    <tr>\n",
       "      <th>6</th>\n",
       "      <td>10084</td>\n",
       "      <td>2004</td>\n",
       "      <td>636</td>\n",
       "      <td>0</td>\n",
       "      <td>2007</td>\n",
       "      <td>307000</td>\n",
       "    </tr>\n",
       "  </tbody>\n",
       "</table>\n",
       "</div>"
      ],
      "text/plain": [
       "   lotarea  yearbuilt  garagearea  poolarea  yrsold  saleprice\n",
       "0     8450       2003         548         0    2008     208500\n",
       "1     9600       1976         460         0    2007     181500\n",
       "2    11250       2001         608         0    2008     223500\n",
       "4    14260       2000         836         0    2008     250000\n",
       "6    10084       2004         636         0    2007     307000"
      ]
     },
     "execution_count": 31,
     "metadata": {},
     "output_type": "execute_result"
    }
   ],
   "source": [
    "train10.select_dtypes('int64').head()"
   ]
  },
  {
   "cell_type": "markdown",
   "metadata": {},
   "source": [
    "The dataset covers houses sold **between 2006 and 2010**.\n",
    "\n",
    "The numeric columns have the following metrics:"
   ]
  },
  {
   "cell_type": "code",
   "execution_count": 32,
   "metadata": {},
   "outputs": [
    {
     "data": {
      "text/html": [
       "<div>\n",
       "<style scoped>\n",
       "    .dataframe tbody tr th:only-of-type {\n",
       "        vertical-align: middle;\n",
       "    }\n",
       "\n",
       "    .dataframe tbody tr th {\n",
       "        vertical-align: top;\n",
       "    }\n",
       "\n",
       "    .dataframe thead th {\n",
       "        text-align: right;\n",
       "    }\n",
       "</style>\n",
       "<table border=\"1\" class=\"dataframe\">\n",
       "  <thead>\n",
       "    <tr style=\"text-align: right;\">\n",
       "      <th></th>\n",
       "      <th>lotarea</th>\n",
       "      <th>yearbuilt</th>\n",
       "      <th>garagearea</th>\n",
       "      <th>poolarea</th>\n",
       "      <th>yrsold</th>\n",
       "      <th>saleprice</th>\n",
       "    </tr>\n",
       "  </thead>\n",
       "  <tbody>\n",
       "    <tr>\n",
       "      <th>count</th>\n",
       "      <td>738.0</td>\n",
       "      <td>738.0</td>\n",
       "      <td>738.0</td>\n",
       "      <td>738.0</td>\n",
       "      <td>738.0</td>\n",
       "      <td>738.0</td>\n",
       "    </tr>\n",
       "    <tr>\n",
       "      <th>mean</th>\n",
       "      <td>11497.0</td>\n",
       "      <td>1973.0</td>\n",
       "      <td>483.0</td>\n",
       "      <td>2.0</td>\n",
       "      <td>2008.0</td>\n",
       "      <td>186606.0</td>\n",
       "    </tr>\n",
       "    <tr>\n",
       "      <th>std</th>\n",
       "      <td>10292.0</td>\n",
       "      <td>28.0</td>\n",
       "      <td>195.0</td>\n",
       "      <td>31.0</td>\n",
       "      <td>1.0</td>\n",
       "      <td>74600.0</td>\n",
       "    </tr>\n",
       "    <tr>\n",
       "      <th>min</th>\n",
       "      <td>2500.0</td>\n",
       "      <td>1872.0</td>\n",
       "      <td>0.0</td>\n",
       "      <td>0.0</td>\n",
       "      <td>2006.0</td>\n",
       "      <td>39300.0</td>\n",
       "    </tr>\n",
       "    <tr>\n",
       "      <th>25%</th>\n",
       "      <td>8450.0</td>\n",
       "      <td>1957.0</td>\n",
       "      <td>352.0</td>\n",
       "      <td>0.0</td>\n",
       "      <td>2007.0</td>\n",
       "      <td>135812.0</td>\n",
       "    </tr>\n",
       "    <tr>\n",
       "      <th>50%</th>\n",
       "      <td>10000.0</td>\n",
       "      <td>1974.0</td>\n",
       "      <td>484.0</td>\n",
       "      <td>0.0</td>\n",
       "      <td>2008.0</td>\n",
       "      <td>174750.0</td>\n",
       "    </tr>\n",
       "    <tr>\n",
       "      <th>75%</th>\n",
       "      <td>12037.0</td>\n",
       "      <td>1998.0</td>\n",
       "      <td>576.0</td>\n",
       "      <td>0.0</td>\n",
       "      <td>2009.0</td>\n",
       "      <td>223375.0</td>\n",
       "    </tr>\n",
       "    <tr>\n",
       "      <th>max</th>\n",
       "      <td>215245.0</td>\n",
       "      <td>2009.0</td>\n",
       "      <td>1069.0</td>\n",
       "      <td>648.0</td>\n",
       "      <td>2010.0</td>\n",
       "      <td>755000.0</td>\n",
       "    </tr>\n",
       "  </tbody>\n",
       "</table>\n",
       "</div>"
      ],
      "text/plain": [
       "        lotarea  yearbuilt  garagearea  poolarea  yrsold  saleprice\n",
       "count     738.0      738.0       738.0     738.0   738.0      738.0\n",
       "mean    11497.0     1973.0       483.0       2.0  2008.0   186606.0\n",
       "std     10292.0       28.0       195.0      31.0     1.0    74600.0\n",
       "min      2500.0     1872.0         0.0       0.0  2006.0    39300.0\n",
       "25%      8450.0     1957.0       352.0       0.0  2007.0   135812.0\n",
       "50%     10000.0     1974.0       484.0       0.0  2008.0   174750.0\n",
       "75%     12037.0     1998.0       576.0       0.0  2009.0   223375.0\n",
       "max    215245.0     2009.0      1069.0     648.0  2010.0   755000.0"
      ]
     },
     "execution_count": 32,
     "metadata": {},
     "output_type": "execute_result"
    }
   ],
   "source": [
    "train10.describe().round()"
   ]
  },
  {
   "cell_type": "markdown",
   "metadata": {},
   "source": [
    "A visualization of the sales price shows that the median price is between **USD 100,000** and **USD 200,000**, while at around **USD 350,000** fewer houses are sold (outliers)."
   ]
  },
  {
   "cell_type": "code",
   "execution_count": 33,
   "metadata": {},
   "outputs": [
    {
     "data": {
      "image/png": "[encoded data removed]",
      "text/plain": [
       "<Figure size 432x288 with 1 Axes>"
      ]
     },
     "metadata": {
      "needs_background": "light"
     },
     "output_type": "display_data"
    }
   ],
   "source": [
    "train10.saleprice.plot(kind ='box');"
   ]
  },
  {
   "cell_type": "markdown",
   "metadata": {},
   "source": [
    "**Most houses** have **no pool**, while of those who have a pool the size is more than **500sq.ft**."
   ]
  },
  {
   "cell_type": "code",
   "execution_count": 34,
   "metadata": {},
   "outputs": [
    {
     "data": {
      "image/png": "[encoded data removed]",
      "text/plain": [
       "<Figure size 432x288 with 1 Axes>"
      ]
     },
     "metadata": {
      "needs_background": "light"
     },
     "output_type": "display_data"
    }
   ],
   "source": [
    "train10.poolarea.plot(kind ='box');"
   ]
  },
  {
   "cell_type": "markdown",
   "metadata": {},
   "source": [
    "Since only **two houses** have a pool, the column can be **dropped**."
   ]
  },
  {
   "cell_type": "code",
   "execution_count": 35,
   "metadata": {},
   "outputs": [
    {
     "data": {
      "text/plain": [
       "648      1\n",
       "519      1\n",
       "0      736\n",
       "Name: poolarea, dtype: int64"
      ]
     },
     "execution_count": 35,
     "metadata": {},
     "output_type": "execute_result"
    }
   ],
   "source": [
    "train10.poolarea.value_counts().sort_values()"
   ]
  },
  {
   "cell_type": "code",
   "execution_count": 36,
   "metadata": {},
   "outputs": [],
   "source": [
    "train11 = train10.drop('poolarea', axis = 1)"
   ]
  },
  {
   "cell_type": "code",
   "execution_count": 37,
   "metadata": {},
   "outputs": [
    {
     "data": {
      "text/html": [
       "<div>\n",
       "<style scoped>\n",
       "    .dataframe tbody tr th:only-of-type {\n",
       "        vertical-align: middle;\n",
       "    }\n",
       "\n",
       "    .dataframe tbody tr th {\n",
       "        vertical-align: top;\n",
       "    }\n",
       "\n",
       "    .dataframe thead th {\n",
       "        text-align: right;\n",
       "    }\n",
       "</style>\n",
       "<table border=\"1\" class=\"dataframe\">\n",
       "  <thead>\n",
       "    <tr style=\"text-align: right;\">\n",
       "      <th></th>\n",
       "      <th>mszoning</th>\n",
       "      <th>lotarea</th>\n",
       "      <th>housestyle</th>\n",
       "      <th>yearbuilt</th>\n",
       "      <th>garagearea</th>\n",
       "      <th>yrsold</th>\n",
       "      <th>saleprice</th>\n",
       "    </tr>\n",
       "  </thead>\n",
       "  <tbody>\n",
       "    <tr>\n",
       "      <th>0</th>\n",
       "      <td>RL</td>\n",
       "      <td>8450</td>\n",
       "      <td>2Story</td>\n",
       "      <td>2003</td>\n",
       "      <td>548</td>\n",
       "      <td>2008</td>\n",
       "      <td>208500</td>\n",
       "    </tr>\n",
       "    <tr>\n",
       "      <th>1</th>\n",
       "      <td>RL</td>\n",
       "      <td>9600</td>\n",
       "      <td>1Story</td>\n",
       "      <td>1976</td>\n",
       "      <td>460</td>\n",
       "      <td>2007</td>\n",
       "      <td>181500</td>\n",
       "    </tr>\n",
       "    <tr>\n",
       "      <th>2</th>\n",
       "      <td>RL</td>\n",
       "      <td>11250</td>\n",
       "      <td>2Story</td>\n",
       "      <td>2001</td>\n",
       "      <td>608</td>\n",
       "      <td>2008</td>\n",
       "      <td>223500</td>\n",
       "    </tr>\n",
       "    <tr>\n",
       "      <th>4</th>\n",
       "      <td>RL</td>\n",
       "      <td>14260</td>\n",
       "      <td>2Story</td>\n",
       "      <td>2000</td>\n",
       "      <td>836</td>\n",
       "      <td>2008</td>\n",
       "      <td>250000</td>\n",
       "    </tr>\n",
       "    <tr>\n",
       "      <th>6</th>\n",
       "      <td>RL</td>\n",
       "      <td>10084</td>\n",
       "      <td>1Story</td>\n",
       "      <td>2004</td>\n",
       "      <td>636</td>\n",
       "      <td>2007</td>\n",
       "      <td>307000</td>\n",
       "    </tr>\n",
       "  </tbody>\n",
       "</table>\n",
       "</div>"
      ],
      "text/plain": [
       "  mszoning  lotarea housestyle  yearbuilt  garagearea  yrsold  saleprice\n",
       "0       RL     8450     2Story       2003         548    2008     208500\n",
       "1       RL     9600     1Story       1976         460    2007     181500\n",
       "2       RL    11250     2Story       2001         608    2008     223500\n",
       "4       RL    14260     2Story       2000         836    2008     250000\n",
       "6       RL    10084     1Story       2004         636    2007     307000"
      ]
     },
     "execution_count": 37,
     "metadata": {},
     "output_type": "execute_result"
    }
   ],
   "source": [
    "train11.head()"
   ]
  },
  {
   "cell_type": "markdown",
   "metadata": {},
   "source": [
    "Most lots are between **8,410sq.ft and 11,990sq.ft**, while a considerable number of outliers with larger lots exist."
   ]
  },
  {
   "cell_type": "code",
   "execution_count": 38,
   "metadata": {},
   "outputs": [
    {
     "data": {
      "image/png": "[encoded data removed]",
      "text/plain": [
       "<Figure size 432x288 with 1 Axes>"
      ]
     },
     "metadata": {
      "needs_background": "light"
     },
     "output_type": "display_data"
    }
   ],
   "source": [
    "train11.lotarea.plot(kind ='box');"
   ]
  },
  {
   "cell_type": "code",
   "execution_count": 39,
   "metadata": {},
   "outputs": [
    {
     "data": {
      "image/png": "[encoded data removed]",
      "text/plain": [
       "<Figure size 432x288 with 1 Axes>"
      ]
     },
     "metadata": {
      "needs_background": "light"
     },
     "output_type": "display_data"
    }
   ],
   "source": [
    "train11.garagearea.plot(kind ='box');"
   ]
  },
  {
   "cell_type": "markdown",
   "metadata": {},
   "source": [
    "### **3. Data Relations**"
   ]
  },
  {
   "cell_type": "markdown",
   "metadata": {},
   "source": [
    "From **2006** to **2009**, the number of sales rose, while in 2010 it **declined**. In spite of the populations' decreasing buying power, the financial crisis of **2007/2008**, did not lead to a decline of sales. This might be attributed to foreclosed homes readily turned over in the housing market. In **2010** sales declined. This might be due to a moderation of the housing market following the bubble, or may also suggest an **incomplete dataset**."
   ]
  },
  {
   "cell_type": "code",
   "execution_count": 134,
   "metadata": {},
   "outputs": [
    {
     "data": {
      "text/html": [
       "<div>\n",
       "<style scoped>\n",
       "    .dataframe tbody tr th:only-of-type {\n",
       "        vertical-align: middle;\n",
       "    }\n",
       "\n",
       "    .dataframe tbody tr th {\n",
       "        vertical-align: top;\n",
       "    }\n",
       "\n",
       "    .dataframe thead th {\n",
       "        text-align: right;\n",
       "    }\n",
       "</style>\n",
       "<table border=\"1\" class=\"dataframe\">\n",
       "  <thead>\n",
       "    <tr style=\"text-align: right;\">\n",
       "      <th></th>\n",
       "      <th>yrsold</th>\n",
       "      <th>no_houses</th>\n",
       "    </tr>\n",
       "  </thead>\n",
       "  <tbody>\n",
       "    <tr>\n",
       "      <th>0</th>\n",
       "      <td>2006</td>\n",
       "      <td>137</td>\n",
       "    </tr>\n",
       "    <tr>\n",
       "      <th>1</th>\n",
       "      <td>2007</td>\n",
       "      <td>162</td>\n",
       "    </tr>\n",
       "    <tr>\n",
       "      <th>2</th>\n",
       "      <td>2008</td>\n",
       "      <td>160</td>\n",
       "    </tr>\n",
       "    <tr>\n",
       "      <th>3</th>\n",
       "      <td>2009</td>\n",
       "      <td>181</td>\n",
       "    </tr>\n",
       "    <tr>\n",
       "      <th>4</th>\n",
       "      <td>2010</td>\n",
       "      <td>98</td>\n",
       "    </tr>\n",
       "  </tbody>\n",
       "</table>\n",
       "</div>"
      ],
      "text/plain": [
       "   yrsold  no_houses\n",
       "0    2006        137\n",
       "1    2007        162\n",
       "2    2008        160\n",
       "3    2009        181\n",
       "4    2010         98"
      ]
     },
     "execution_count": 134,
     "metadata": {},
     "output_type": "execute_result"
    }
   ],
   "source": [
    "no_houses = train11.groupby(['yrsold'])['no_houses'].sum().reset_index()\n",
    "no_houses"
   ]
  },
  {
   "cell_type": "code",
   "execution_count": 129,
   "metadata": {},
   "outputs": [],
   "source": [
    "train11['no_houses'] = 1"
   ]
  },
  {
   "cell_type": "code",
   "execution_count": 137,
   "metadata": {},
   "outputs": [
    {
     "data": {
      "image/png": "[encoded data removed]",
      "text/plain": [
       "<Figure size 432x288 with 1 Axes>"
      ]
     },
     "metadata": {
      "needs_background": "light"
     },
     "output_type": "display_data"
    }
   ],
   "source": [
    "fig, ax = plt.subplots()\n",
    "x = no_houses['yrsold']\n",
    "y = no_houses['no_houses']\n",
    "ax.set_xlabel('Year', color=\"brown\",fontsize=9)\n",
    "ax.set_xticks([2006, 2007, 2008, 2009, 2010])\n",
    "ax.set_ylabel('No. of Sales', color=\"brown\",fontsize=9)\n",
    "ax.set_title('Housing Sales')\n",
    "ax.plot(x, y, color = 'grey');"
   ]
  },
  {
   "cell_type": "markdown",
   "metadata": {},
   "source": [
    "Between 2006 and 2010, the average houses sold were around **35 years** old."
   ]
  },
  {
   "cell_type": "code",
   "execution_count": 40,
   "metadata": {},
   "outputs": [
    {
     "data": {
      "text/html": [
       "<div>\n",
       "<style scoped>\n",
       "    .dataframe tbody tr th:only-of-type {\n",
       "        vertical-align: middle;\n",
       "    }\n",
       "\n",
       "    .dataframe tbody tr th {\n",
       "        vertical-align: top;\n",
       "    }\n",
       "\n",
       "    .dataframe thead th {\n",
       "        text-align: right;\n",
       "    }\n",
       "</style>\n",
       "<table border=\"1\" class=\"dataframe\">\n",
       "  <thead>\n",
       "    <tr style=\"text-align: right;\">\n",
       "      <th></th>\n",
       "      <th>mszoning</th>\n",
       "      <th>lotarea</th>\n",
       "      <th>housestyle</th>\n",
       "      <th>yearbuilt</th>\n",
       "      <th>garagearea</th>\n",
       "      <th>yrsold</th>\n",
       "      <th>saleprice</th>\n",
       "      <th>age_houses</th>\n",
       "    </tr>\n",
       "  </thead>\n",
       "  <tbody>\n",
       "    <tr>\n",
       "      <th>0</th>\n",
       "      <td>RL</td>\n",
       "      <td>8450</td>\n",
       "      <td>2Story</td>\n",
       "      <td>2003</td>\n",
       "      <td>548</td>\n",
       "      <td>2008</td>\n",
       "      <td>208500</td>\n",
       "      <td>5</td>\n",
       "    </tr>\n",
       "    <tr>\n",
       "      <th>1</th>\n",
       "      <td>RL</td>\n",
       "      <td>9600</td>\n",
       "      <td>1Story</td>\n",
       "      <td>1976</td>\n",
       "      <td>460</td>\n",
       "      <td>2007</td>\n",
       "      <td>181500</td>\n",
       "      <td>31</td>\n",
       "    </tr>\n",
       "    <tr>\n",
       "      <th>2</th>\n",
       "      <td>RL</td>\n",
       "      <td>11250</td>\n",
       "      <td>2Story</td>\n",
       "      <td>2001</td>\n",
       "      <td>608</td>\n",
       "      <td>2008</td>\n",
       "      <td>223500</td>\n",
       "      <td>7</td>\n",
       "    </tr>\n",
       "    <tr>\n",
       "      <th>4</th>\n",
       "      <td>RL</td>\n",
       "      <td>14260</td>\n",
       "      <td>2Story</td>\n",
       "      <td>2000</td>\n",
       "      <td>836</td>\n",
       "      <td>2008</td>\n",
       "      <td>250000</td>\n",
       "      <td>8</td>\n",
       "    </tr>\n",
       "    <tr>\n",
       "      <th>6</th>\n",
       "      <td>RL</td>\n",
       "      <td>10084</td>\n",
       "      <td>1Story</td>\n",
       "      <td>2004</td>\n",
       "      <td>636</td>\n",
       "      <td>2007</td>\n",
       "      <td>307000</td>\n",
       "      <td>3</td>\n",
       "    </tr>\n",
       "  </tbody>\n",
       "</table>\n",
       "</div>"
      ],
      "text/plain": [
       "  mszoning  lotarea housestyle  yearbuilt  garagearea  yrsold  saleprice  \\\n",
       "0       RL     8450     2Story       2003         548    2008     208500   \n",
       "1       RL     9600     1Story       1976         460    2007     181500   \n",
       "2       RL    11250     2Story       2001         608    2008     223500   \n",
       "4       RL    14260     2Story       2000         836    2008     250000   \n",
       "6       RL    10084     1Story       2004         636    2007     307000   \n",
       "\n",
       "   age_houses  \n",
       "0           5  \n",
       "1          31  \n",
       "2           7  \n",
       "4           8  \n",
       "6           3  "
      ]
     },
     "execution_count": 40,
     "metadata": {},
     "output_type": "execute_result"
    }
   ],
   "source": [
    "train11['age_houses'] = train11['yrsold']-train11['yearbuilt']\n",
    "train11.head()"
   ]
  },
  {
   "cell_type": "code",
   "execution_count": 42,
   "metadata": {},
   "outputs": [
    {
     "data": {
      "text/plain": [
       "count    738.000000\n",
       "mean      35.174797\n",
       "std       27.628482\n",
       "min        0.000000\n",
       "25%       10.000000\n",
       "50%       34.000000\n",
       "75%       51.000000\n",
       "max      136.000000\n",
       "Name: age_houses, dtype: float64"
      ]
     },
     "execution_count": 42,
     "metadata": {},
     "output_type": "execute_result"
    }
   ],
   "source": [
    "train11.age_houses.describe()"
   ]
  },
  {
   "cell_type": "code",
   "execution_count": 41,
   "metadata": {},
   "outputs": [
    {
     "data": {
      "image/png": "[encoded data removed]",
      "text/plain": [
       "<Figure size 432x288 with 1 Axes>"
      ]
     },
     "metadata": {
      "needs_background": "light"
     },
     "output_type": "display_data"
    }
   ],
   "source": [
    "train11.age_houses.plot(kind = 'box');"
   ]
  },
  {
   "cell_type": "markdown",
   "metadata": {},
   "source": [
    "From 2006 to 2010, **no trend** in the age of houses can be detected."
   ]
  },
  {
   "cell_type": "code",
   "execution_count": 141,
   "metadata": {},
   "outputs": [
    {
     "data": {
      "text/plain": [
       "yrsold\n",
       "2006    32.343066\n",
       "2007    36.222222\n",
       "2008    35.918750\n",
       "2009    34.823204\n",
       "2010    36.836735\n",
       "Name: age_houses, dtype: float64"
      ]
     },
     "execution_count": 141,
     "metadata": {},
     "output_type": "execute_result"
    }
   ],
   "source": [
    "train11.groupby(['yrsold'])['age_houses'].mean()"
   ]
  },
  {
   "cell_type": "markdown",
   "metadata": {},
   "source": [
    "While **RL and RM** have the same official specification of a **min. lot area of 6,000sqft** and **no official specifications for a garage** <Link>(https://www.qcode.us/codes/huntingtonbeach/view.php?topic=zoning_code-21-210-210_06), differences between RL and RM can be observed in the data at hand. \n",
    "    \n",
    "Between 2006 and 2010, **RL** sold had a lot area around **11,800sq.ft**, while **RM** were smaller with a lot area of around **7,000 to 8,000 sq.ft**. Whether a house had one or two stories was **not related** with the size of lot area among **RL**. One-story houses of **RM** were around **1,000sq.ft smaller** than two-story houses.  "
   ]
  },
  {
   "cell_type": "code",
   "execution_count": 48,
   "metadata": {},
   "outputs": [
    {
     "name": "stderr",
     "output_type": "stream",
     "text": [
      "<ipython-input-48-26cae33631b9>:1: FutureWarning: Indexing with multiple keys (implicitly converted to a tuple of keys) will be deprecated, use a list instead.\n",
      "  train11.groupby(['mszoning','housestyle'])['lotarea', 'garagearea', 'saleprice'].mean().round().reset_index()\n"
     ]
    },
    {
     "data": {
      "text/html": [
       "<div>\n",
       "<style scoped>\n",
       "    .dataframe tbody tr th:only-of-type {\n",
       "        vertical-align: middle;\n",
       "    }\n",
       "\n",
       "    .dataframe tbody tr th {\n",
       "        vertical-align: top;\n",
       "    }\n",
       "\n",
       "    .dataframe thead th {\n",
       "        text-align: right;\n",
       "    }\n",
       "</style>\n",
       "<table border=\"1\" class=\"dataframe\">\n",
       "  <thead>\n",
       "    <tr style=\"text-align: right;\">\n",
       "      <th></th>\n",
       "      <th>mszoning</th>\n",
       "      <th>housestyle</th>\n",
       "      <th>lotarea</th>\n",
       "      <th>garagearea</th>\n",
       "      <th>saleprice</th>\n",
       "    </tr>\n",
       "  </thead>\n",
       "  <tbody>\n",
       "    <tr>\n",
       "      <th>0</th>\n",
       "      <td>RL</td>\n",
       "      <td>1Story</td>\n",
       "      <td>11888.0</td>\n",
       "      <td>469.0</td>\n",
       "      <td>173405.0</td>\n",
       "    </tr>\n",
       "    <tr>\n",
       "      <th>1</th>\n",
       "      <td>RL</td>\n",
       "      <td>2Story</td>\n",
       "      <td>11779.0</td>\n",
       "      <td>535.0</td>\n",
       "      <td>225103.0</td>\n",
       "    </tr>\n",
       "    <tr>\n",
       "      <th>2</th>\n",
       "      <td>RM</td>\n",
       "      <td>1Story</td>\n",
       "      <td>6980.0</td>\n",
       "      <td>344.0</td>\n",
       "      <td>104670.0</td>\n",
       "    </tr>\n",
       "    <tr>\n",
       "      <th>3</th>\n",
       "      <td>RM</td>\n",
       "      <td>2Story</td>\n",
       "      <td>8098.0</td>\n",
       "      <td>397.0</td>\n",
       "      <td>139595.0</td>\n",
       "    </tr>\n",
       "  </tbody>\n",
       "</table>\n",
       "</div>"
      ],
      "text/plain": [
       "  mszoning housestyle  lotarea  garagearea  saleprice\n",
       "0       RL     1Story  11888.0       469.0   173405.0\n",
       "1       RL     2Story  11779.0       535.0   225103.0\n",
       "2       RM     1Story   6980.0       344.0   104670.0\n",
       "3       RM     2Story   8098.0       397.0   139595.0"
      ]
     },
     "execution_count": 48,
     "metadata": {},
     "output_type": "execute_result"
    }
   ],
   "source": [
    "train11.groupby(['mszoning','housestyle'])['lotarea', 'garagearea', 'saleprice'].mean().round().reset_index()"
   ]
  },
  {
   "cell_type": "markdown",
   "metadata": {},
   "source": [
    "The average sales price per year for a family house is about **USD 185,000 to USD 190,000**. During the financial crisis in **2008**, there was a **steep decline** in housing prices of around **USD 10,000**. Houses of **smaller size** were sold, while garage size remained the same. In **2009**, the market **recovered** to pre-crisis levels."
   ]
  },
  {
   "cell_type": "code",
   "execution_count": 127,
   "metadata": {},
   "outputs": [
    {
     "name": "stderr",
     "output_type": "stream",
     "text": [
      "<ipython-input-127-90ce1a1e3a78>:1: FutureWarning: Indexing with multiple keys (implicitly converted to a tuple of keys) will be deprecated, use a list instead.\n",
      "  trend = train11.groupby(['yrsold'])['lotarea', 'garagearea', 'saleprice'].mean().round().reset_index()\n"
     ]
    },
    {
     "data": {
      "text/html": [
       "<div>\n",
       "<style scoped>\n",
       "    .dataframe tbody tr th:only-of-type {\n",
       "        vertical-align: middle;\n",
       "    }\n",
       "\n",
       "    .dataframe tbody tr th {\n",
       "        vertical-align: top;\n",
       "    }\n",
       "\n",
       "    .dataframe thead th {\n",
       "        text-align: right;\n",
       "    }\n",
       "</style>\n",
       "<table border=\"1\" class=\"dataframe\">\n",
       "  <thead>\n",
       "    <tr style=\"text-align: right;\">\n",
       "      <th></th>\n",
       "      <th>yrsold</th>\n",
       "      <th>lotarea</th>\n",
       "      <th>garagearea</th>\n",
       "      <th>saleprice</th>\n",
       "    </tr>\n",
       "  </thead>\n",
       "  <tbody>\n",
       "    <tr>\n",
       "      <th>0</th>\n",
       "      <td>2006</td>\n",
       "      <td>12082.0</td>\n",
       "      <td>496.0</td>\n",
       "      <td>193657.0</td>\n",
       "    </tr>\n",
       "    <tr>\n",
       "      <th>1</th>\n",
       "      <td>2007</td>\n",
       "      <td>11439.0</td>\n",
       "      <td>483.0</td>\n",
       "      <td>187983.0</td>\n",
       "    </tr>\n",
       "    <tr>\n",
       "      <th>2</th>\n",
       "      <td>2008</td>\n",
       "      <td>10412.0</td>\n",
       "      <td>470.0</td>\n",
       "      <td>176574.0</td>\n",
       "    </tr>\n",
       "    <tr>\n",
       "      <th>3</th>\n",
       "      <td>2009</td>\n",
       "      <td>12045.0</td>\n",
       "      <td>494.0</td>\n",
       "      <td>188890.0</td>\n",
       "    </tr>\n",
       "    <tr>\n",
       "      <th>4</th>\n",
       "      <td>2010</td>\n",
       "      <td>11532.0</td>\n",
       "      <td>466.0</td>\n",
       "      <td>186633.0</td>\n",
       "    </tr>\n",
       "  </tbody>\n",
       "</table>\n",
       "</div>"
      ],
      "text/plain": [
       "   yrsold  lotarea  garagearea  saleprice\n",
       "0    2006  12082.0       496.0   193657.0\n",
       "1    2007  11439.0       483.0   187983.0\n",
       "2    2008  10412.0       470.0   176574.0\n",
       "3    2009  12045.0       494.0   188890.0\n",
       "4    2010  11532.0       466.0   186633.0"
      ]
     },
     "execution_count": 127,
     "metadata": {},
     "output_type": "execute_result"
    }
   ],
   "source": [
    "trend = train11.groupby(['yrsold'])['lotarea', 'garagearea', 'saleprice'].mean().round().reset_index()\n",
    "trend.head()"
   ]
  },
  {
   "cell_type": "code",
   "execution_count": 128,
   "metadata": {},
   "outputs": [
    {
     "data": {
      "image/png": "[encoded data removed]",
      "text/plain": [
       "<Figure size 432x288 with 2 Axes>"
      ]
     },
     "metadata": {
      "needs_background": "light"
     },
     "output_type": "display_data"
    }
   ],
   "source": [
    "fig, ax = plt.subplots()\n",
    "x = trend['yrsold']\n",
    "y1 = trend['lotarea']\n",
    "y2 = trend['garagearea']\n",
    "y3 = trend['saleprice']\n",
    "\n",
    "ax.plot(x, y1, label = 'lot area');\n",
    "ax.plot(x, y2, label = 'garage area');\n",
    "ax.set_xlabel('Year', color=\"brown\",fontsize=9)\n",
    "ax.set_xticks([2006, 2007, 2008, 2009, 2010])\n",
    "ax.set_ylabel('Area  in sq.ft', color=\"brown\",fontsize=9)\n",
    "ax.set_title('Housing Area and Prices')\n",
    "ax.legend(loc = 'lower left')\n",
    "ax2 = ax.twinx()\n",
    "ax2.plot(x, y3, color = 'red', label = 'Prices')\n",
    "ax2.set_ylabel(\"Prices in USD\",color=\"brown\",fontsize=9)\n",
    "ax2.legend(loc = 10)\n",
    "plt.show()"
   ]
  },
  {
   "cell_type": "code",
   "execution_count": null,
   "metadata": {},
   "outputs": [],
   "source": [
    "train11['no_houses'] = train11[train11[sale_price].]"
   ]
  }
 ],
 "metadata": {
  "kernelspec": {
   "display_name": "Python 3",
   "language": "python",
   "name": "python3"
  },
  "language_info": {
   "codemirror_mode": {
    "name": "ipython",
    "version": 3
   },
   "file_extension": ".py",
   "mimetype": "text/x-python",
   "name": "python",
   "nbconvert_exporter": "python",
   "pygments_lexer": "ipython3",
   "version": "3.8.3"
  }
 },
 "nbformat": 4,
 "nbformat_minor": 4
}
